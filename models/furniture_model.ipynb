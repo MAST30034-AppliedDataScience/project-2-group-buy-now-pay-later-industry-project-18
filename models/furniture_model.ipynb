{
 "cells": [
  {
   "cell_type": "markdown",
   "metadata": {},
   "source": [
    "# Modelling by Merchant Segment\n",
    "## Forecasting Furniture Segment"
   ]
  },
  {
   "cell_type": "code",
   "execution_count": 9,
   "metadata": {},
   "outputs": [],
   "source": [
    "# Initialise a spark session\n",
    "import pandas as pd\n",
    "from collections import Counter\n",
    "import os\n",
    "from pyspark.sql import SparkSession\n",
    "from pyspark.sql import functions as F\n",
    "from pyspark.sql.window import Window\n",
    "from pyspark.ml.regression import RandomForestRegressor\n",
    "from pyspark.ml.feature import VectorAssembler, StandardScaler\n",
    "from pyspark.ml import Pipeline\n",
    "from pyspark.ml.evaluation import RegressionEvaluator\n",
    "\n",
    "\n",
    "spark = (\n",
    "    SparkSession.builder.appName(\"Furniture Model\")\n",
    "    .config(\"spark.sql.repl.eagerEval.enabled\", True)\n",
    "    .config(\"spark.sql.parquet.cacheMetadata\", \"true\")\n",
    "    .config(\"spark.sql.session.timeZone\", \"Etc/UTC\")\n",
    "    .config(\"spark.driver.memory\", \"16g\")  # Increase driver memory\n",
    "    .config(\"spark.executor.memory\", \"16g\")  # Increase executor memory\n",
    "    .config(\"spark.executor.instances\", \"4\")  # Increase the number of executor instances\n",
    "    .config(\"spark.driver.maxResultSize\", \"4g\")\n",
    "    .config(\"spark.sql.shuffle.partitions\", \"100\") \\\n",
    "    .getOrCreate()\n",
    ")"
   ]
  },
  {
   "cell_type": "code",
   "execution_count": 2,
   "metadata": {},
   "outputs": [
    {
     "name": "stderr",
     "output_type": "stream",
     "text": [
      "24/09/25 18:01:41 WARN GarbageCollectionMetrics: To enable non-built-in garbage collector(s) List(G1 Concurrent GC), users should configure it(them) to spark.eventLog.gcMetrics.youngGenerationGarbageCollectors or spark.eventLog.gcMetrics.oldGenerationGarbageCollectors\n"
     ]
    }
   ],
   "source": [
    "# Read transaction file excluding those marked as fraud\n",
    "transactions = spark.read.parquet('../data/curated/flagged_fraud')\n",
    "transactions = transactions.filter(F.col(\"is_fraud\") != True) # Exclude Fraud Transactions"
   ]
  },
  {
   "cell_type": "markdown",
   "metadata": {},
   "source": [
    "## Filter Transactions by Segment (Furniture)"
   ]
  },
  {
   "cell_type": "code",
   "execution_count": 3,
   "metadata": {},
   "outputs": [
    {
     "name": "stderr",
     "output_type": "stream",
     "text": [
      "                                                                                \r"
     ]
    },
    {
     "name": "stdout",
     "output_type": "stream",
     "text": [
      "+------------+---------+-------+------------------+------------------------------------+-----------+--------------------------+----------------+------------------------------+--------------+-----------------+---------------+-------------+--------------------------+--------------+----------------+-------------+--------------------------------------+-----------------+---------------------------+---------------------------+--------+-------------------------------------------------------------------------------------+------------+-------------------+\n",
      "|merchant_abn|year_week|user_id|dollar_value      |order_id                            |consumer_id|fraud_probability_consumer|name_consumer   |address_consumer              |state_consumer|postcode_consumer|gender_consumer|name_merchant|fraud_probability_merchant|order_datetime|order_month_year|SA4_CODE_2011|SA4_NAME_2011                         |unemployment_rate|consumer_weekly_transaction|merchant_weekly_transaction|is_fraud|merchant_category                                                                    |revenue_band|take_rate          |\n",
      "+------------+---------+-------+------------------+------------------------------------+-----------+--------------------------+----------------+------------------------------+--------------+-----------------+---------------+-------------+--------------------------+--------------+----------------+-------------+--------------------------------------+-----------------+---------------------------+---------------------------+--------+-------------------------------------------------------------------------------------+------------+-------------------+\n",
      "|10023283211 |2022-52  |10644  |165.46258021834524|2797367f-7291-40f9-95d9-bae40248ef81|628291     |10.312240149573695        |Daniel Johnson  |9768 Heather Forest Suite 822 |VIC           |3187             |Male           |Felis Limited|56.09895816008761         |2022-01-01    |Jan-22          |208          |Melbourne - Inner South               |113.8            |598                        |18                         |false   |furniture, home furnishings and equipment shops, and manufacturers, except appliances|e           |0.18000000715255737|\n",
      "|10023283211 |2022-52  |10644  |57.20786953052217 |29850a74-47d5-493e-b29b-4f5dc618cfa0|628291     |10.312240149573695        |Daniel Johnson  |9768 Heather Forest Suite 822 |VIC           |3187             |Male           |Felis Limited|56.05192020060501         |2022-01-01    |Jan-22          |208          |Melbourne - Inner South               |113.8            |598                        |18                         |false   |furniture, home furnishings and equipment shops, and manufacturers, except appliances|e           |0.18000000715255737|\n",
      "|10023283211 |2022-52  |7431   |78.9540036865514  |916096cb-d2f6-4575-b4a2-1a84c92b0b14|462216     |13.650445146961163        |Charles Ferguson|3956 Hall Port Apt. 889       |SA            |5093             |Male           |Felis Limited|56.27304083958471         |2022-01-01    |Jan-22          |402          |Adelaide - North                      |141.0            |580                        |18                         |false   |furniture, home furnishings and equipment shops, and manufacturers, except appliances|e           |0.18000000715255737|\n",
      "|10023283211 |2022-52  |3985   |272.51518100709075|cb32ef45-4480-4b2e-8679-1156dd643dba|1383051    |8.462162703137405         |Robert Clay     |666 Heather Village           |VIC           |3281             |Male           |Felis Limited|58.72662509616437         |2022-01-01    |Jan-22          |217          |Warrnambool and South West            |39.4             |579                        |18                         |false   |furniture, home furnishings and equipment shops, and manufacturers, except appliances|e           |0.18000000715255737|\n",
      "|10023283211 |2022-52  |9231   |626.3521615542566 |2ebe9ff0-62e6-4874-b601-c5837cd3a69a|1202538    |9.159813107204359         |Shawn Nelson    |03013 Hall Track              |NSW           |2773             |Male           |Felis Limited|54.59381869303377         |2022-01-02    |Jan-22          |124          |Sydney - Outer West and Blue Mountains|86.7             |581                        |18                         |false   |furniture, home furnishings and equipment shops, and manufacturers, except appliances|e           |0.18000000715255737|\n",
      "|10023283211 |2022-52  |15981  |113.10687617941016|c6136945-36ec-483b-8a35-4c67af51d4fc|395099     |9.261292739723222         |Pamela Weber    |6890 Patricia Stream Suite 329|NSW           |2101             |Female         |Felis Limited|53.95037440178335         |2022-01-01    |Jan-22          |122          |Sydney - Northern Beaches             |66.3             |575                        |18                         |false   |furniture, home furnishings and equipment shops, and manufacturers, except appliances|e           |0.18000000715255737|\n",
      "|10023283211 |2022-52  |22208  |172.40007606478446|c1b7960c-692d-447f-bbeb-66413227c60b|224029     |13.421298344588692        |Robert Wright   |0990 Wolfe Points             |ACT           |2601             |Male           |Felis Limited|55.453373506107674        |2022-01-01    |Jan-22          |801          |Australian Capital Territory          |109.7            |573                        |18                         |false   |furniture, home furnishings and equipment shops, and manufacturers, except appliances|e           |0.18000000715255737|\n",
      "|10023283211 |2022-52  |23131  |452.4195879068104 |99db0a68-d407-4621-96ce-5983ca080b84|531432     |10.092564282075553        |Jordan Parker   |539 Kenneth Curve             |VIC           |3708             |Male           |Felis Limited|57.32185764922318         |2022-01-01    |Jan-22          |204          |Hume                                  |55.8             |586                        |18                         |false   |furniture, home furnishings and equipment shops, and manufacturers, except appliances|e           |0.18000000715255737|\n",
      "|10023283211 |2022-52  |19844  |26.356040062206706|8d902fb5-adfd-4d47-80c9-21a5b2e02a84|1228937    |8.997386324574592         |Nichole Meyer   |1994 Steven Rapid Suite 350   |QLD           |4509             |Female         |Felis Limited|55.73133000830105         |2022-01-02    |Jan-22          |314          |Moreton Bay - South                   |50.2             |579                        |18                         |false   |furniture, home furnishings and equipment shops, and manufacturers, except appliances|e           |0.18000000715255737|\n",
      "|10023283211 |2022-52  |8564   |270.04212433397066|ed541f55-e20f-4ddd-b005-9c42d481bbce|375728     |9.593391871957088         |Angela Cross    |1645 Christopher Place        |NSW           |1110             |Female         |Felis Limited|55.655438902704965        |2022-01-01    |Jan-22          |Unregistered |Unregistered Area                     |73.3             |580                        |18                         |false   |furniture, home furnishings and equipment shops, and manufacturers, except appliances|e           |0.18000000715255737|\n",
      "+------------+---------+-------+------------------+------------------------------------+-----------+--------------------------+----------------+------------------------------+--------------+-----------------+---------------+-------------+--------------------------+--------------+----------------+-------------+--------------------------------------+-----------------+---------------------------+---------------------------+--------+-------------------------------------------------------------------------------------+------------+-------------------+\n",
      "only showing top 10 rows\n",
      "\n"
     ]
    }
   ],
   "source": [
    "from pyspark.sql.functions import lower, col\n",
    "\n",
    "furniture_transactions = transactions.filter(lower(col(\"merchant_category\")).contains(\"furniture\"))\n",
    "\n",
    "furniture_transactions.show(truncate=False, n=10)"
   ]
  },
  {
   "cell_type": "markdown",
   "metadata": {},
   "source": [
    "## Feature Engineering: Total Transaction Value (Yearly)\n",
    "* Transactions within the furniture/home furnishing segments tend to be fewer in number but higher in value\n",
    "* A high transaction volume could be a key indicator of a popular/favoured merchant"
   ]
  },
  {
   "cell_type": "code",
   "execution_count": 5,
   "metadata": {},
   "outputs": [],
   "source": [
    "furniture_transactions = furniture_transactions.withColumn('order_year', F.year(F.col('order_datetime')))\n",
    "\n",
    "yearly_transactions_df = furniture_transactions.groupBy('merchant_abn', 'order_year').agg(\n",
    "    F.count(\"order_id\").alias(\"total_transactions\"),\n",
    "    F.avg(\"dollar_value\").alias(\"average_dollar_value\"),\n",
    "    F.avg(\"fraud_probability_merchant\").alias(\"avg_fraud_probability_merchant\"),\n",
    "    F.avg(\"fraud_probability_consumer\").alias(\"avg_fraud_probability_consumer\"),\n",
    "    F.avg(\"take_rate\").alias(\"avg_take_rate\"),\n",
    "    F.avg(\"unemployment_rate\").alias(\"avg_unemployment_cust\"),\n",
    "    F.first(\"name_merchant\").alias(\"merchant_name\"),\n",
    "    F.first(\"merchant_category\").alias(\"merchant_category\"),\n",
    "    F.first(\"revenue_band\").alias(\"revenue_band\") # Assuming revenue band is consistent for every merchant\n",
    ")"
   ]
  },
  {
   "cell_type": "code",
   "execution_count": 6,
   "metadata": {},
   "outputs": [],
   "source": [
    "# Create lag feature\n",
    "window_spec = Window.partitionBy('merchant_abn').orderBy('order_year')\n",
    "yearly_transactions_df = yearly_transactions_df.withColumn(\n",
    "    'previous_year_transactions', F.lag('total_transactions', 1).over(window_spec)\n",
    ").fillna(0)"
   ]
  },
  {
   "cell_type": "code",
   "execution_count": 7,
   "metadata": {},
   "outputs": [
    {
     "name": "stderr",
     "output_type": "stream",
     "text": [
      "[Stage 38:===================================================>     (9 + 1) / 10]\r"
     ]
    },
    {
     "name": "stdout",
     "output_type": "stream",
     "text": [
      "+------------+----------+------------------+--------------------+------------------------------+------------------------------+-------------------+---------------------+-------------------------------------+-------------------------------------------------------------------------------------+------------+--------------------------+\n",
      "|merchant_abn|order_year|total_transactions|average_dollar_value|avg_fraud_probability_merchant|avg_fraud_probability_consumer|avg_take_rate      |avg_unemployment_cust|merchant_name                        |merchant_category                                                                    |revenue_band|previous_year_transactions|\n",
      "+------------+----------+------------------+--------------------+------------------------------+------------------------------+-------------------+---------------------+-------------------------------------+-------------------------------------------------------------------------------------+------------+--------------------------+\n",
      "|10023283211 |2021      |1676              |211.52049299195707  |55.704544914395065            |13.224013798453399            |0.18000000715255737|78.33693317422431    |Felis Limited                        |furniture, home furnishings and equipment shops, and manufacturers, except appliances|e           |0                         |\n",
      "|10023283211 |2022      |481               |213.347577956117    |55.993908839869604            |12.887742969195044            |0.18000000715255737|75.01122661122665    |Felis Limited                        |furniture, home furnishings and equipment shops, and manufacturers, except appliances|e           |1676                      |\n",
      "|10323485998 |2021      |2406              |129.39777912281195  |54.987812602669386            |13.689904071708348            |6.610000133514404  |75.82647547797177    |Nunc Inc.                            |furniture, home furnishings and equipment shopS, and manufacturers, except appliances|a           |0                         |\n",
      "|10323485998 |2022      |386               |135.06045787513105  |54.41018384868085             |13.05986729936682             |6.610000133514404  |73.88367875647671    |Nunc Inc.                            |furniture, home furnishings and equipment shopS, and manufacturers, except appliances|a           |2406                      |\n",
      "|10346855916 |2021      |1                 |848.6343667941392   |54.186187907037514            |12.413046066664634            |3.569999933242798  |28.8                 |Odio Institute                       |equipment, tool, furniture, and appliance  rent al and leAsing                       |b           |0                         |\n",
      "|10714068705 |2021      |1567              |123.081147683052    |55.931561519428755            |13.202288482997883            |2.509999990463257  |78.60906190172305    |Sollicitudin Commodo Ipsum Industries|furniture, home furnishings and equipment shops, and manufacturers, except appliances|c           |0                         |\n",
      "|10714068705 |2022      |503               |127.61843037866753  |56.18258422439638             |12.801865620954947            |2.509999990463257  |78.78906560636182    |Sollicitudin Commodo Ipsum Industries|furniture, home furnishings and equipment shops, and manufacturers, except appliances|c           |1567                      |\n",
      "|10860706939 |2021      |270               |85.04537649717771   |56.16825625945364             |14.486856387420278            |2.990000009536743  |76.90925925925924    |Vitae Aliquet Nec Associates         |furniture, home furnishings and equipment shops, and manufacturers, except appliances|c           |0                         |\n",
      "|10860706939 |2022      |60                |98.3715834142126    |56.39113619071618             |11.862406413559945            |2.990000009536743  |92.99666666666666    |Vitae Aliquet Nec Associates         |furniture, home furnishings and equipment shops, and manufacturers, except appliances|c           |270                       |\n",
      "|10959028715 |2021      |1418              |190.50827074985978  |55.34333750648805             |13.267066544001224            |4.28000020980835   |77.68617771509163    |Ante Maecenas Ltd                    |furniture, home furnishings and equipment shops, and manufacturers, except applIances|b           |0                         |\n",
      "+------------+----------+------------------+--------------------+------------------------------+------------------------------+-------------------+---------------------+-------------------------------------+-------------------------------------------------------------------------------------+------------+--------------------------+\n",
      "only showing top 10 rows\n",
      "\n"
     ]
    },
    {
     "name": "stderr",
     "output_type": "stream",
     "text": [
      "                                                                                \r"
     ]
    }
   ],
   "source": [
    "yearly_transactions_df.show(truncate=False, n=10)"
   ]
  },
  {
   "cell_type": "markdown",
   "metadata": {},
   "source": [
    "## Random Forest Regressor to Forecast Future Total Transactions"
   ]
  },
  {
   "cell_type": "code",
   "execution_count": 10,
   "metadata": {},
   "outputs": [],
   "source": [
    "# Step 1: Feature Engineering\n",
    "# Select relevant features for modeling\n",
    "feature_columns = ['total_transactions', 'average_dollar_value', 'avg_fraud_probability_merchant', \n",
    "                   'avg_fraud_probability_consumer', 'avg_take_rate', 'avg_unemployment_cust', 'previous_year_transactions']\n",
    "\n",
    "# Assemble features into a single vector column\n",
    "assembler = VectorAssembler(inputCols=feature_columns, outputCol=\"features\")\n",
    "\n",
    "# Scale the features\n",
    "scaler = StandardScaler(inputCol=\"features\", outputCol=\"scaled_features\")\n",
    "\n",
    "# Step 4: Random Forest Regressor Setup\n",
    "rf = RandomForestRegressor(featuresCol='scaled_features', labelCol='total_transactions')\n",
    "\n",
    "# Step 5: Create a Pipeline\n",
    "pipeline = Pipeline(stages=[assembler, scaler, rf])"
   ]
  },
  {
   "cell_type": "code",
   "execution_count": 11,
   "metadata": {},
   "outputs": [
    {
     "name": "stderr",
     "output_type": "stream",
     "text": [
      "                                                                                \r"
     ]
    },
    {
     "name": "stdout",
     "output_type": "stream",
     "text": [
      "Root Mean Squared Error (RMSE): 665.7072122730077\n",
      "R-squared (R²): 0.8233325697755584\n"
     ]
    },
    {
     "name": "stderr",
     "output_type": "stream",
     "text": [
      "[Stage 99:=======================================>                 (7 + 3) / 10]\r"
     ]
    },
    {
     "name": "stdout",
     "output_type": "stream",
     "text": [
      "+------------+----------+------------------+------------------+\n",
      "|merchant_abn|order_year|total_transactions|        prediction|\n",
      "+------------+----------+------------------+------------------+\n",
      "| 10323485998|      2021|              2406| 1269.808634198291|\n",
      "| 10714068705|      2022|               503|  450.212706381394|\n",
      "| 10860706939|      2022|                60| 178.6626078574229|\n",
      "| 12103450178|      2021|                16|53.637908506257006|\n",
      "| 13447011295|      2022|               247| 290.2825482809468|\n",
      "+------------+----------+------------------+------------------+\n",
      "only showing top 5 rows\n",
      "\n"
     ]
    },
    {
     "name": "stderr",
     "output_type": "stream",
     "text": [
      "                                                                                \r"
     ]
    }
   ],
   "source": [
    "# Step 6: Split Data into Training and Testing Sets\n",
    "train_data, test_data = yearly_transactions_df.randomSplit([0.8, 0.2], seed=42)\n",
    "\n",
    "# Step 7: Train the Random Forest Model\n",
    "rf_model = pipeline.fit(train_data)\n",
    "\n",
    "# Step 8: Evaluate Model on Test Data\n",
    "predictions = rf_model.transform(test_data)\n",
    "\n",
    "# Evaluate the model's performance using RMSE and R-squared\n",
    "evaluator = RegressionEvaluator(labelCol=\"total_transactions\", predictionCol=\"prediction\", metricName=\"rmse\")\n",
    "rmse = evaluator.evaluate(predictions)\n",
    "r2 = evaluator.evaluate(predictions, {evaluator.metricName: \"r2\"})\n",
    "\n",
    "print(f\"Root Mean Squared Error (RMSE): {rmse}\")\n",
    "print(f\"R-squared (R²): {r2}\")\n",
    "\n",
    "# Show some predictions alongside actual values\n",
    "predictions.select(\"merchant_abn\", \"order_year\", \"total_transactions\", \"prediction\").show(5)"
   ]
  },
  {
   "cell_type": "code",
   "execution_count": 14,
   "metadata": {},
   "outputs": [
    {
     "name": "stderr",
     "output_type": "stream",
     "text": [
      "[Stage 109:>                                                        (0 + 8) / 8]\r"
     ]
    },
    {
     "name": "stdout",
     "output_type": "stream",
     "text": [
      "+------------+----------+------------------+\n",
      "|merchant_abn|order_year|        prediction|\n",
      "+------------+----------+------------------+\n",
      "| 54702673300|      2023|358.63179094876733|\n",
      "| 15700338102|      2023|426.94280884859774|\n",
      "| 35769589414|      2023|296.93721109040723|\n",
      "| 35079621278|      2023| 20.23411474333517|\n",
      "| 28836033916|      2023| 40.43394196847653|\n",
      "| 66741987958|      2023|18.742009638230066|\n",
      "| 46654841462|      2023|466.55916274363915|\n",
      "| 10714068705|      2023|1791.7420234110734|\n",
      "| 63937753588|      2023| 43.48549960068452|\n",
      "| 14315147591|      2023| 188.1517873217064|\n",
      "+------------+----------+------------------+\n",
      "only showing top 10 rows\n",
      "\n"
     ]
    },
    {
     "name": "stderr",
     "output_type": "stream",
     "text": [
      "                                                                                \r"
     ]
    }
   ],
   "source": [
    "# Step 1: Generate the future projection dataset\n",
    "# Project future years based on the last available year for each merchant\n",
    "future_total_transactions_df = yearly_transactions_df.groupBy('merchant_abn').agg(F.max('order_year').alias('latest_year'))\n",
    "\n",
    "# Generate future year column\n",
    "num_future_years = 1  # Number of future years to project\n",
    "future_years = [(year,) for year in range(2023, 2023 + num_future_years)]  # Specify the future years you want to predict\n",
    "future_years_df = spark.createDataFrame(future_years, ['order_year'])\n",
    "\n",
    "# Cross-join merchants with future years\n",
    "future_data = future_total_transactions_df.crossJoin(future_years_df)\n",
    "\n",
    "# Step 2: Join the features from the latest available year for each merchant\n",
    "latest_data = yearly_transactions_df.groupBy('merchant_abn').agg(\n",
    "    F.max('order_year').alias('latest_year'),  # Get the latest available year for each merchant\n",
    "    F.first('total_transactions').alias('total_transactions'),\n",
    "    F.first('average_dollar_value').alias('average_dollar_value'),\n",
    "    F.first('avg_fraud_probability_merchant').alias('avg_fraud_probability_merchant'),\n",
    "    F.first('avg_fraud_probability_consumer').alias('avg_fraud_probability_consumer'),\n",
    "    F.first('previous_year_transactions').alias('previous_year_transactions'),  # Corrected column name\n",
    "    F.first('merchant_name').alias('merchant_name'),\n",
    "    F.first(\"merchant_category\").alias(\"merchant_category\"),\n",
    "    F.first('avg_take_rate').alias('avg_take_rate'),  # Corrected the take rate column name\n",
    "    F.avg('avg_unemployment_cust').alias('avg_unemployment_cust')  # Assuming the correct unemployment column\n",
    ")\n",
    "\n",
    "# Join the latest available features with the future data\n",
    "future_data = future_data.join(latest_data, on='merchant_abn', how='left')\n",
    "\n",
    "# Step 3: Apply the trained model to predict the future repeat customer ratio\n",
    "future_data = rf_model.transform(future_data)\n",
    "\n",
    "# Step 4: Show predicted repeat customer ratio for future years\n",
    "future_data.select('merchant_abn', 'order_year', 'prediction').show(10)"
   ]
  },
  {
   "cell_type": "code",
   "execution_count": 15,
   "metadata": {},
   "outputs": [],
   "source": [
    "future_predictions = future_data.withColumnRenamed('prediction', 'projected_total_orders')\n",
    "future_predictions = future_predictions.orderBy(F.col('projected_total_orders').desc())"
   ]
  },
  {
   "cell_type": "code",
   "execution_count": 18,
   "metadata": {},
   "outputs": [],
   "source": [
    "future_predictions = future_predictions.select('merchant_abn', 'order_year', 'total_transactions', 'average_dollar_value',\n",
    "                                               'avg_fraud_probability_merchant', 'avg_fraud_probability_consumer', 'projected_total_orders','merchant_name','merchant_category')"
   ]
  },
  {
   "cell_type": "code",
   "execution_count": 19,
   "metadata": {},
   "outputs": [
    {
     "name": "stderr",
     "output_type": "stream",
     "text": [
      "                                                                                \r"
     ]
    },
    {
     "name": "stdout",
     "output_type": "stream",
     "text": [
      "+------------+----------+------------------+--------------------+------------------------------+------------------------------+----------------------+------------------------------+--------------------------------------------------------------------------------------+\n",
      "|merchant_abn|order_year|total_transactions|average_dollar_value|avg_fraud_probability_merchant|avg_fraud_probability_consumer|projected_total_orders|merchant_name                 |merchant_category                                                                     |\n",
      "+------------+----------+------------------+--------------------+------------------------------+------------------------------+----------------------+------------------------------+--------------------------------------------------------------------------------------+\n",
      "|38090089066 |2023      |36545             |163.2082987821643   |29.35533546356127             |12.894427168930058            |24818.7075            |Interdum Feugiat Sed Inc.     |furniture, home furnishings and equipment shOps, and manufacturErs, except appliances |\n",
      "|98269572896 |2023      |32843             |84.52362995217268   |31.20815873437142             |13.256749735359064            |18230.258373734112    |Eget Laoreet Posuere PC       |furniture, home furnishings and equipment shops, and manufacturers, except appliances |\n",
      "|76767266140 |2023      |29994             |198.71233238048245  |29.53973320718271             |12.897042349168856            |14532.237068702661    |Phasellus At Limited          |furniture, home furnishings and equipment shops, and manufacturers,  except aPpliances|\n",
      "|52959528548 |2023      |29884             |161.92622484768677  |29.355626142698267            |12.904959374143704            |14188.739010989011    |Libero Et Limited             |furniture, home furnishings and equIpment shops, and manufacturers, except appliances |\n",
      "|99275601275 |2023      |12843             |82.9270555177399    |31.214559122015103            |13.36854632171341             |14093.083373734107    |Proin Velit Sed Foundation    |furniture, home furnishings and equipment shops, and manufacturers, except appliances |\n",
      "|90543168331 |2023      |23800             |232.99748276026247  |31.156445670910106            |12.879304346405481            |12155.683653846154    |Phasellus Dapibus Incorporated|furniture, home furnishings and equipment shops, and manufActurers, except appliances |\n",
      "|62191208634 |2023      |12132             |86.23786623799882   |29.359045031500933            |12.915245755634517            |10840.529844322344    |Cursus Non Egestas Foundation |furniture, home furnishings and equipment shops, and manufacturers, except appliances |\n",
      "|90578415511 |2023      |12546             |84.35423141870288   |31.48052433398155             |12.898545913770427            |10602.087528085503    |A Scelerisque Foundation      |furniture, home furnisHings and equipment shops, and manufacturers, except appliances |\n",
      "|17107204463 |2023      |6115              |126.0726102049552   |29.236191136724806            |12.895849223283628            |9160.00119047619      |Ultricies Ornare Elit Limited |furniture, home furnishings aNd equipment shops, and manufacturers, except appliances |\n",
      "|61412665910 |2023      |6751              |126.2972964731048   |29.349226402225888            |12.92224383847052             |8237.82401098901      |Tempor Inc.                   |furniture, home furnishings and equipment shops, and manufacturers, except appliances |\n",
      "+------------+----------+------------------+--------------------+------------------------------+------------------------------+----------------------+------------------------------+--------------------------------------------------------------------------------------+\n",
      "only showing top 10 rows\n",
      "\n"
     ]
    }
   ],
   "source": [
    "future_predictions.show(truncate=False, n=10)"
   ]
  },
  {
   "cell_type": "markdown",
   "metadata": {},
   "source": [
    "# Export Ranking"
   ]
  },
  {
   "cell_type": "code",
   "execution_count": 20,
   "metadata": {},
   "outputs": [],
   "source": [
    "future_predictions = future_predictions.select('merchant_abn', 'merchant_name', 'merchant_category', 'order_year', 'projected_total_orders')"
   ]
  },
  {
   "cell_type": "code",
   "execution_count": 21,
   "metadata": {},
   "outputs": [
    {
     "name": "stderr",
     "output_type": "stream",
     "text": [
      "                                                                                \r"
     ]
    }
   ],
   "source": [
    "future_predictions.write.parquet('../data/curated/furniture_rankings')"
   ]
  }
 ],
 "metadata": {
  "kernelspec": {
   "display_name": "base",
   "language": "python",
   "name": "python3"
  },
  "language_info": {
   "codemirror_mode": {
    "name": "ipython",
    "version": 3
   },
   "file_extension": ".py",
   "mimetype": "text/x-python",
   "name": "python",
   "nbconvert_exporter": "python",
   "pygments_lexer": "ipython3",
   "version": "3.11.5"
  }
 },
 "nbformat": 4,
 "nbformat_minor": 2
}

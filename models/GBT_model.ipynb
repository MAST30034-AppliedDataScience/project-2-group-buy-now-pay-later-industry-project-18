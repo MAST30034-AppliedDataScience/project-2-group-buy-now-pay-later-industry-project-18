{
 "cells": [
  {
   "cell_type": "markdown",
   "metadata": {},
   "source": [
    "# Gradient Boosted Trees to Forecast Merchant Monthly Revenue\n",
    "This notebook will employ the Gradient Boosted Trees model to forecast merchant's monthly revenue to create an overall ranking system."
   ]
  },
  {
   "cell_type": "code",
   "execution_count": 20,
   "metadata": {},
   "outputs": [
    {
     "name": "stderr",
     "output_type": "stream",
     "text": [
      "24/09/27 16:27:28 WARN Utils: Service 'SparkUI' could not bind on port 4040. Attempting port 4041.\n"
     ]
    }
   ],
   "source": [
    "# Initialise a spark session\n",
    "import pandas as pd\n",
    "from collections import Counter\n",
    "import os\n",
    "from pyspark.sql import SparkSession\n",
    "from pyspark.sql.window import Window\n",
    "from pyspark.sql import functions as F\n",
    "from pyspark.ml.evaluation import RegressionEvaluator\n",
    "from pyspark.ml.feature import StandardScaler, StringIndexer, OneHotEncoder, VectorAssembler\n",
    "from pyspark.ml import Pipeline\n",
    "from pyspark.ml.regression import GBTRegressor\n",
    "\n",
    "\n",
    "\n",
    "spark = (\n",
    "    SparkSession.builder.appName(\"GBT Model\")\n",
    "    .config(\"spark.sql.repl.eagerEval.enabled\", True)\n",
    "    .config(\"spark.sql.parquet.cacheMetadata\", \"true\")\n",
    "    .config(\"spark.sql.session.timeZone\", \"Etc/UTC\")\n",
    "    .config(\"spark.driver.memory\", \"16g\")  # Increase driver memory\n",
    "    .config(\"spark.executor.memory\", \"16g\")  # Increase executor memory\n",
    "    .config(\"spark.executor.instances\", \"4\")  # Increase the number of executor instances\n",
    "    .config(\"spark.driver.maxResultSize\", \"2g\")\n",
    "    .config(\"spark.sql.shuffle.partitions\", \"200\") \\\n",
    "    .getOrCreate()\n",
    ")"
   ]
  },
  {
   "cell_type": "code",
   "execution_count": 21,
   "metadata": {},
   "outputs": [],
   "source": [
    "# Read transaction file\n",
    "transactions = spark.read.parquet('../data/curated/flagged_fraud')\n",
    "transactions = transactions.filter(F.col(\"is_fraud\") != True) # Exclude transactions marked as fraud"
   ]
  },
  {
   "cell_type": "code",
   "execution_count": 22,
   "metadata": {},
   "outputs": [],
   "source": [
    "# Aggregating monthly revenue for each merchant\n",
    "monthly_revenue_df = transactions.groupBy('merchant_abn', 'order_month_year').agg(\n",
    "    F.sum('dollar_value').alias('monthly_revenue'),\n",
    "    F.count('order_id').alias('transaction_count'),\n",
    "    F.avg('fraud_probability_merchant').alias('avg_fraud_probability_merchant'),\n",
    "    F.first('name_merchant').alias('merchant_name'),\n",
    "    F.avg('take_rate').alias('avg_take_rate'),\n",
    "    F.first('revenue_band').alias('revenue_band'),\n",
    "    F.first('merchant_category').alias('merchant_category')\n",
    ")\n",
    "    \n",
    "# Aggregating consumer-level features (most common state and gender for each merchant)\n",
    "\n",
    "# Most common consumer state per merchant\n",
    "consumer_state_mode = transactions.groupBy('merchant_abn', 'state_consumer').count() \\\n",
    "    .withColumn('row_num', F.row_number().over(Window.partitionBy('merchant_abn').orderBy(F.desc('count')))) \\\n",
    "    .filter(F.col('row_num') == 1) \\\n",
    "    .select('merchant_abn', 'state_consumer')\n",
    "\n",
    "# Most common consumer gender per merchant\n",
    "consumer_gender_mode = transactions.groupBy('merchant_abn', 'gender_consumer').count() \\\n",
    "    .withColumn('row_num', F.row_number().over(Window.partitionBy('merchant_abn').orderBy(F.desc('count')))) \\\n",
    "    .filter(F.col('row_num') == 1) \\\n",
    "    .select('merchant_abn', 'gender_consumer')\n",
    "\n",
    "# Average Unemployment Rate per Merchant Month-Year\n",
    "transactions = transactions.withColumn(\"unemployment_rate_numeric\", F.col(\"unemployment_rate\").cast(\"float\"))\n",
    "\n",
    "unemployment_agg = transactions.groupBy('merchant_abn', 'order_month_year').agg(\n",
    "    F.avg('unemployment_rate_numeric').alias('avg_unemployment_rate')\n",
    ")"
   ]
  },
  {
   "cell_type": "code",
   "execution_count": 23,
   "metadata": {},
   "outputs": [
    {
     "name": "stderr",
     "output_type": "stream",
     "text": [
      "                                                                                \r"
     ]
    },
    {
     "name": "stdout",
     "output_type": "stream",
     "text": [
      "+------------+----------------+------------------+-----------------+------------------------------+--------------------+-------------------+------------+--------------------+--------------+---------------+---------------------+\n",
      "|merchant_abn|order_month_year|   monthly_revenue|transaction_count|avg_fraud_probability_merchant|       merchant_name|      avg_take_rate|revenue_band|   merchant_category|state_consumer|gender_consumer|avg_unemployment_rate|\n",
      "+------------+----------------+------------------+-----------------+------------------------------+--------------------+-------------------+------------+--------------------+--------------+---------------+---------------------+\n",
      "| 10023283211|          Mar-21| 9076.307821688919|               40|             56.40749878739966|       Felis Limited|0.18000000715255737|           e|furniture, home f...|           NSW|           Male|     78.1724992275238|\n",
      "| 10142254217|          Nov-21|13097.452353073131|              315|             55.47863229844303|Arcu Ac Orci Corp...|   4.21999979019165|           b|cable, satellite,...|           NSW|           Male|    78.20253993745834|\n",
      "| 10187291046|          Jul-21| 906.4298127305271|                8|            56.333947346189554|Ultricies Digniss...| 3.2899999618530273|           b|watch, clock, and...|           NSW|           Male|   60.799999713897705|\n",
      "| 10187291046|          May-21|499.44547710662636|                8|             54.65314032706472|Ultricies Digniss...| 3.2899999618530273|           b|watch, clock, and...|           NSW|           Male|    59.68750190734863|\n",
      "| 10187291046|          Nov-21|12097.857952854954|              105|             55.98006177551826|Ultricies Digniss...| 3.2899999618530273|           b|watch, clock, and...|           NSW|           Male|    75.33428635370164|\n",
      "+------------+----------------+------------------+-----------------+------------------------------+--------------------+-------------------+------------+--------------------+--------------+---------------+---------------------+\n",
      "only showing top 5 rows\n",
      "\n"
     ]
    }
   ],
   "source": [
    "# Joining Datasets\n",
    "monthly_revenue_df = monthly_revenue_df.join(consumer_state_mode, on='merchant_abn', how='left') \\\n",
    "                                      .join(consumer_gender_mode, on='merchant_abn', how='left')\n",
    "\n",
    "# Join with unemployment data on both 'merchant_abn' and 'order_month_year'\n",
    "monthly_revenue_df = monthly_revenue_df.join(unemployment_agg, on=['merchant_abn', 'order_month_year'], how='left')\n",
    "\n",
    "# Show the final dataframe\n",
    "monthly_revenue_df.show(5)"
   ]
  },
  {
   "cell_type": "code",
   "execution_count": 24,
   "metadata": {},
   "outputs": [
    {
     "name": "stderr",
     "output_type": "stream",
     "text": [
      "                                                                                \r"
     ]
    },
    {
     "name": "stdout",
     "output_type": "stream",
     "text": [
      "+------------+----------------+------------------+-----------------+------------------------------+-------------+-------------------+------------+--------------------+--------------+---------------+---------------------+----------------------+--------------------+\n",
      "|merchant_abn|order_month_year|   monthly_revenue|transaction_count|avg_fraud_probability_merchant|merchant_name|      avg_take_rate|revenue_band|   merchant_category|state_consumer|gender_consumer|avg_unemployment_rate|previous_month_revenue|      revenue_growth|\n",
      "+------------+----------------+------------------+-----------------+------------------------------+-------------+-------------------+------------+--------------------+--------------+---------------+---------------------+----------------------+--------------------+\n",
      "| 10023283211|          Apr-21| 9221.405806871098|               47|             56.03849374950703|Felis Limited|0.18000000715255737|           e|furniture, home f...|           NSW|           Male|    74.54042625427246|                   0.0|                 0.0|\n",
      "| 10023283211|          Aug-21|15807.479921460479|               86|              56.2429773174978|Felis Limited|0.18000000715255737|           e|furniture, home f...|           NSW|           Male|    80.79883797224178|     9221.405806871098|   0.714215842196418|\n",
      "| 10023283211|          Dec-21| 66067.74432316715|              316|             55.74664488810392|Felis Limited|0.18000000715255737|           e|furniture, home f...|           NSW|           Male|    76.78892362570461|    15807.479921460479|  3.1795241652322175|\n",
      "| 10023283211|          Feb-22| 48572.88260819351|              215|             56.06942278917232|Felis Limited|0.18000000715255737|           e|furniture, home f...|           NSW|           Male|    71.28418544059576|     66067.74432316715|-0.26480186200089373|\n",
      "| 10023283211|          Jan-22| 54047.30238869876|              266|             55.93287312896705|Felis Limited|0.18000000715255737|           e|furniture, home f...|           NSW|           Male|    78.02368530474212|     48572.88260819351| 0.11270526858914061|\n",
      "+------------+----------------+------------------+-----------------+------------------------------+-------------+-------------------+------------+--------------------+--------------+---------------+---------------------+----------------------+--------------------+\n",
      "only showing top 5 rows\n",
      "\n"
     ]
    }
   ],
   "source": [
    "# Creating lag features to include previous month's revenue\n",
    "window_spec = Window.partitionBy('merchant_abn').orderBy('order_month_year')\n",
    "\n",
    "# Lagging features: Previous month's revenue\n",
    "monthly_revenue_df = monthly_revenue_df.withColumn(\n",
    "    'previous_month_revenue', F.lag('monthly_revenue', 1).over(window_spec)\n",
    ")\n",
    "\n",
    "# Calculate revenue growth (percentage change)\n",
    "monthly_revenue_df = monthly_revenue_df.withColumn(\n",
    "    'revenue_growth',\n",
    "    F.when(F.col('previous_month_revenue') > 0, \n",
    "           (F.col('monthly_revenue') - F.col('previous_month_revenue')) / F.col('previous_month_revenue'))\n",
    "    .otherwise(F.lit(0))  # Fill with 0 if there is no previous revenue\n",
    ")\n",
    "\n",
    "# Fill NA values for first month with 0 (no previous data available)\n",
    "monthly_revenue_df = monthly_revenue_df.fillna({'previous_month_revenue': 0, 'revenue_growth': 0})\n",
    "\n",
    "\n",
    "monthly_revenue_df = monthly_revenue_df.fillna(0)  # Filling NA values for first month\n",
    "monthly_revenue_df.show(5)"
   ]
  },
  {
   "cell_type": "code",
   "execution_count": 25,
   "metadata": {},
   "outputs": [
    {
     "name": "stderr",
     "output_type": "stream",
     "text": [
      "                                                                                \r"
     ]
    },
    {
     "name": "stdout",
     "output_type": "stream",
     "text": [
      "+------------+----------------+--------------------+\n",
      "|merchant_abn|order_month_year|     scaled_features|\n",
      "+------------+----------------+--------------------+\n",
      "| 10023283211|          Apr-21|(145,[0,1,2,3,4,1...|\n",
      "| 10023283211|          Aug-21|(145,[0,1,2,3,4,1...|\n",
      "| 10023283211|          Dec-21|(145,[0,1,2,3,4,1...|\n",
      "| 10023283211|          Feb-22|(145,[0,1,2,3,4,1...|\n",
      "| 10023283211|          Jan-22|(145,[0,1,2,3,4,1...|\n",
      "+------------+----------------+--------------------+\n",
      "only showing top 5 rows\n",
      "\n"
     ]
    }
   ],
   "source": [
    "# StringIndexing categorical columns (merchant_tags, consumer_state, gender_consumer)\n",
    "indexers = [\n",
    "    StringIndexer(inputCol='state_consumer', outputCol='state_consumer_indexed', handleInvalid='keep'),\n",
    "    StringIndexer(inputCol='gender_consumer', outputCol='gender_consumer_indexed', handleInvalid='keep'),\n",
    "    StringIndexer(inputCol='merchant_category', outputCol='category_indexed', handleInvalid='keep'),\n",
    "    StringIndexer(inputCol='revenue_band', outputCol='revenue_band_indexed', handleInvalid='keep')\n",
    "]\n",
    "\n",
    "# OneHotEncoding indexed columns\n",
    "encoders = [\n",
    "    OneHotEncoder(inputCol='state_consumer_indexed', outputCol='state_consumer_encoded'),\n",
    "    OneHotEncoder(inputCol='gender_consumer_indexed', outputCol='gender_consumer_encoded'),\n",
    "    OneHotEncoder(inputCol='category_indexed', outputCol='category_encoded'),\n",
    "    OneHotEncoder(inputCol='revenue_band_indexed', outputCol='revenue_band_encoded')\n",
    "]\n",
    "\n",
    "feature_cols = [\n",
    "        'monthly_revenue', 'transaction_count', 'avg_fraud_probability_merchant', 'avg_unemployment_rate',\n",
    "        'state_consumer_encoded', 'gender_consumer_encoded', 'revenue_growth', 'category_encoded', 'revenue_band_encoded',\n",
    "        'avg_take_rate'\n",
    "    ]\n",
    "\n",
    "# VectorAssembler to combine numeric features into a single feature vector\n",
    "assembler = VectorAssembler(\n",
    "    inputCols= feature_cols, \n",
    "    outputCol='features'\n",
    ")\n",
    "\n",
    "# Standardizing the numeric features\n",
    "scaler = StandardScaler(inputCol='features', outputCol='scaled_features')\n",
    "\n",
    "pipeline = Pipeline(stages=indexers + encoders + [assembler, scaler])\n",
    "\n",
    "# Fit the pipeline to the dataset\n",
    "model_pipeline = pipeline.fit(monthly_revenue_df)\n",
    "\n",
    "final_df = model_pipeline.transform(monthly_revenue_df)\n",
    "\n",
    "final_df.select('merchant_abn', 'order_month_year', 'scaled_features').show(5)"
   ]
  },
  {
   "cell_type": "code",
   "execution_count": 26,
   "metadata": {},
   "outputs": [],
   "source": [
    "train_data, test_data = final_df.randomSplit([0.8, 0.2], seed=42)"
   ]
  },
  {
   "cell_type": "code",
   "execution_count": 27,
   "metadata": {},
   "outputs": [
    {
     "name": "stderr",
     "output_type": "stream",
     "text": [
      "                                                                                \r"
     ]
    }
   ],
   "source": [
    "# Define the GBT Regressor\n",
    "gbt = GBTRegressor(featuresCol='scaled_features', labelCol='monthly_revenue')\n",
    "\n",
    "# Fit the model on the training data\n",
    "gbt_model = gbt.fit(train_data)\n",
    "\n",
    "# Make predictions on the test data\n",
    "gbt_predictions = gbt_model.transform(test_data)"
   ]
  },
  {
   "cell_type": "code",
   "execution_count": 28,
   "metadata": {},
   "outputs": [
    {
     "name": "stderr",
     "output_type": "stream",
     "text": [
      "                                                                                \r"
     ]
    },
    {
     "name": "stdout",
     "output_type": "stream",
     "text": [
      "RMSE (GBT): 52731.87085900513\n"
     ]
    }
   ],
   "source": [
    "# Evaluate the model\n",
    "evaluator = RegressionEvaluator(labelCol='monthly_revenue', predictionCol='prediction', metricName='rmse')\n",
    "rmse = evaluator.evaluate(gbt_predictions)\n",
    "print(f\"RMSE (GBT): {rmse}\")"
   ]
  },
  {
   "cell_type": "code",
   "execution_count": 29,
   "metadata": {},
   "outputs": [
    {
     "name": "stderr",
     "output_type": "stream",
     "text": [
      "                                                                                \r"
     ]
    },
    {
     "name": "stdout",
     "output_type": "stream",
     "text": [
      "R-squared: 0.7400655458450198\n"
     ]
    }
   ],
   "source": [
    "r2_evaluator = RegressionEvaluator(labelCol='monthly_revenue', predictionCol='prediction', metricName='r2')\n",
    "r2 = r2_evaluator.evaluate(gbt_predictions)\n",
    "print(f\"R-squared: {r2}\")"
   ]
  },
  {
   "cell_type": "code",
   "execution_count": 30,
   "metadata": {},
   "outputs": [],
   "source": [
    "from pyspark.sql.types import DateType\n",
    "from dateutil.relativedelta import relativedelta\n",
    "from datetime import datetime\n",
    "\n",
    "# Step 1: Parse the order_month_year column to a proper date format\n",
    "monthly_revenue_df = monthly_revenue_df.withColumn(\n",
    "    'order_month_year_date', F.to_date(F.concat(F.lit('01-'), F.col('order_month_year')), 'dd-MMM-yy')\n",
    ")\n",
    "\n",
    "# Get the most recent month per merchant\n",
    "window_spec = Window.partitionBy('merchant_abn').orderBy(F.desc('order_month_year_date'))\n",
    "latest_merchant_data = monthly_revenue_df.withColumn('row_num', F.row_number().over(window_spec)) \\\n",
    "                                         .filter(F.col('row_num') == 1) \\\n",
    "                                         .drop('row_num')"
   ]
  },
  {
   "cell_type": "code",
   "execution_count": 31,
   "metadata": {},
   "outputs": [],
   "source": [
    "next_month = 'Aug-24'\n",
    "future_month_df = spark.createDataFrame([(next_month,)], ['future_order_month_year'])\n",
    "future_data = latest_merchant_data.crossJoin(future_month_df)"
   ]
  },
  {
   "cell_type": "code",
   "execution_count": 32,
   "metadata": {},
   "outputs": [
    {
     "name": "stderr",
     "output_type": "stream",
     "text": [
      "                                                                                \r"
     ]
    },
    {
     "name": "stdout",
     "output_type": "stream",
     "text": [
      "+------------+----------------+-----------------+-----------------+------------------------------+--------------------+-------------------+------------+--------------------+--------------+---------------+---------------------+----------------------+--------------------+---------------------+-----------------------+\n",
      "|merchant_abn|order_month_year|  monthly_revenue|transaction_count|avg_fraud_probability_merchant|       merchant_name|      avg_take_rate|revenue_band|   merchant_category|state_consumer|gender_consumer|avg_unemployment_rate|previous_month_revenue|      revenue_growth|order_month_year_date|future_order_month_year|\n",
      "+------------+----------------+-----------------+-----------------+------------------------------+--------------------+-------------------+------------+--------------------+--------------+---------------+---------------------+----------------------+--------------------+---------------------+-----------------------+\n",
      "| 10023283211|          Feb-22|48572.88260819351|              215|             56.06942278917232|       Felis Limited|0.18000000715255737|           e|furniture, home f...|           NSW|           Male|    71.28418544059576|     66067.74432316715|-0.26480186200089373|           2022-02-01|                 Aug-24|\n",
      "| 10142254217|          Feb-22| 8761.41669580623|              218|             56.29440748705243|Arcu Ac Orci Corp...|   4.21999979019165|           b|cable, satellite,...|           NSW|           Male|    76.60733880471746|     82.56213974011379|  105.11906042388328|           2022-02-01|                 Aug-24|\n",
      "| 10187291046|          Feb-22| 3165.48992443172|               26|             56.80884350094778|Ultricies Digniss...| 3.2899999618530273|           b|watch, clock, and...|           NSW|           Male|    88.99230626913217|     4296.839080341215| -0.2632980045926351|           2022-02-01|                 Aug-24|\n",
      "| 10192359162|          Feb-22|10514.66342879596|               23|             55.34575155431392| Enim Condimentum PC|  6.329999923706055|           a|music shops - mus...|           NSW|           Male|    84.08260801564093|    21759.649496232232| -0.5167815809433596|           2022-02-01|                 Aug-24|\n",
      "| 10206519221|          Feb-22|5828.400459934992|              145|             54.13255399137229|       Fusce Company|  6.340000152587891|           a|gift, card, novel...|           NSW|           Male|    71.57448196411133|    309.66984158167594|   17.82133704130094|           2022-02-01|                 Aug-24|\n",
      "+------------+----------------+-----------------+-----------------+------------------------------+--------------------+-------------------+------------+--------------------+--------------+---------------+---------------------+----------------------+--------------------+---------------------+-----------------------+\n",
      "only showing top 5 rows\n",
      "\n"
     ]
    },
    {
     "name": "stderr",
     "output_type": "stream",
     "text": [
      "                                                                                \r"
     ]
    }
   ],
   "source": [
    "future_data.show(5)"
   ]
  },
  {
   "cell_type": "code",
   "execution_count": 33,
   "metadata": {},
   "outputs": [],
   "source": [
    "future_data = model_pipeline.transform(future_data)\n",
    "future_data = gbt_model.transform(future_data)"
   ]
  },
  {
   "cell_type": "code",
   "execution_count": 34,
   "metadata": {},
   "outputs": [
    {
     "name": "stderr",
     "output_type": "stream",
     "text": [
      "                                                                                \r"
     ]
    },
    {
     "name": "stdout",
     "output_type": "stream",
     "text": [
      "+------------+--------------------+--------------------+-----------------------+------------------+\n",
      "|merchant_abn|       merchant_name|   merchant_category|future_order_month_year| projected_revenue|\n",
      "+------------+--------------------+--------------------+-----------------------+------------------+\n",
      "| 10023283211|       Felis Limited|furniture, home f...|                 Aug-24| 56342.26277063221|\n",
      "| 10142254217|Arcu Ac Orci Corp...|cable, satellite,...|                 Aug-24| 7938.103752542175|\n",
      "| 10187291046|Ultricies Digniss...|watch, clock, and...|                 Aug-24| 3752.461085817395|\n",
      "| 10192359162| Enim Condimentum PC|music shops - mus...|                 Aug-24|11587.997680903285|\n",
      "| 10206519221|       Fusce Company|gift, card, novel...|                 Aug-24|  7830.16740425137|\n",
      "+------------+--------------------+--------------------+-----------------------+------------------+\n",
      "only showing top 5 rows\n",
      "\n"
     ]
    }
   ],
   "source": [
    "future_predictions = future_data.select('merchant_abn', 'merchant_name', 'merchant_category','future_order_month_year', 'prediction')\n",
    "future_predictions = future_predictions.withColumnRenamed('prediction', 'projected_revenue')\n",
    "future_predictions.show(5)"
   ]
  },
  {
   "cell_type": "code",
   "execution_count": 35,
   "metadata": {},
   "outputs": [
    {
     "name": "stderr",
     "output_type": "stream",
     "text": [
      "                                                                                \r"
     ]
    },
    {
     "name": "stdout",
     "output_type": "stream",
     "text": [
      "+------------+--------------------+--------------------+-----------------------+------------------+\n",
      "|merchant_abn|       merchant_name|   merchant_category|future_order_month_year| projected_revenue|\n",
      "+------------+--------------------+--------------------+-----------------------+------------------+\n",
      "| 76626119831|Tristique Pellent...|antique shops - s...|                 Aug-24|1090304.1654838412|\n",
      "| 80518954462|Neque Sed Dictum ...|computers, comput...|                 Aug-24| 766849.9222552462|\n",
      "| 35909341340|Arcu Sed Eu Incor...|computer programm...|                 Aug-24| 698964.4635210154|\n",
      "| 77590625261| Sed Diam Foundation|computer programm...|                 Aug-24| 695996.5497646653|\n",
      "| 90543168331|Phasellus Dapibus...|furniture, home f...|                 Aug-24| 618464.6391918396|\n",
      "| 48534649627|Dignissim Maecena...|opticians, optica...|                 Aug-24|  605325.974392107|\n",
      "| 21772962346|Purus Gravida Sag...|florists supplies...|                 Aug-24| 596550.8925803514|\n",
      "| 17488304283|Posuere Cubilia C...|cable, satellite,...|                 Aug-24| 586539.6565771853|\n",
      "| 21439773999|Mauris Non Institute|cable, satellite,...|                 Aug-24| 586539.6565771853|\n",
      "| 76767266140|Phasellus At Limited|furniture, home f...|                 Aug-24| 550268.4870017602|\n",
      "+------------+--------------------+--------------------+-----------------------+------------------+\n",
      "only showing top 10 rows\n",
      "\n"
     ]
    }
   ],
   "source": [
    "GBT_predictions = future_predictions.orderBy(F.col('projected_revenue').desc())\n",
    "\n",
    "# Show the top 10 merchants by predicted revenue\n",
    "GBT_predictions.show(10)"
   ]
  },
  {
   "cell_type": "markdown",
   "metadata": {},
   "source": [
    "## Evaluating Model"
   ]
  },
  {
   "cell_type": "code",
   "execution_count": 36,
   "metadata": {},
   "outputs": [],
   "source": [
    "importances = gbt_model.featureImportances\n",
    "importance_values = importances.toArray()"
   ]
  },
  {
   "cell_type": "code",
   "execution_count": 37,
   "metadata": {},
   "outputs": [
    {
     "name": "stderr",
     "output_type": "stream",
     "text": [
      "                                                                                \r"
     ]
    },
    {
     "name": "stdout",
     "output_type": "stream",
     "text": [
      "Column: state_consumer - Number of Categories: 7\n",
      "Column: gender_consumer - Number of Categories: 3\n",
      "Column: merchant_category - Number of Categories: 124\n",
      "Column: revenue_band - Number of Categories: 5\n"
     ]
    }
   ],
   "source": [
    "# Fit the StringIndexer on your data\n",
    "indexers = [\n",
    "    StringIndexer(inputCol='state_consumer', outputCol='state_consumer_indexed', handleInvalid='keep'),\n",
    "    StringIndexer(inputCol='gender_consumer', outputCol='gender_consumer_indexed', handleInvalid='keep'),\n",
    "    StringIndexer(inputCol='merchant_category', outputCol='category_indexed', handleInvalid='keep'),\n",
    "    StringIndexer(inputCol='revenue_band', outputCol='revenue_band_indexed', handleInvalid='keep')\n",
    "]\n",
    "\n",
    "indexer_models = [indexer.fit(monthly_revenue_df) for indexer in indexers]\n",
    "\n",
    "# Get the actual number of categories for each categorical column\n",
    "for indexer_model in indexer_models:\n",
    "    print(f\"Column: {indexer_model.getInputCol()} - Number of Categories: {len(indexer_model.labels)}\")"
   ]
  },
  {
   "cell_type": "code",
   "execution_count": 38,
   "metadata": {},
   "outputs": [],
   "source": [
    "vec_assembler_stage = model_pipeline.stages[-2]\n",
    "encoded_feature_cols = vec_assembler_stage.getInputCols()\n",
    "\n",
    "onehot_encoded_sizes = {\n",
    "    'state_consumer_encoded': 7,  # Update with the actual number of categories\n",
    "    'gender_consumer_encoded': 3,  # Update with the actual number of categories\n",
    "    'category_encoded': 124,  # Update with actual number\n",
    "    'revenue_band_encoded':5  # Update with actual number\n",
    "}\n",
    "\n",
    "# Flatten the encoded features (e.g., one-hot encoded columns)\n",
    "expanded_feature_cols = []\n",
    "for col in encoded_feature_cols:\n",
    "    if col in onehot_encoded_sizes:\n",
    "        expanded_feature_cols.extend([f'{col}_{i}' for i in range(onehot_encoded_sizes[col])])\n",
    "    else:\n",
    "        expanded_feature_cols.append(col)"
   ]
  },
  {
   "cell_type": "code",
   "execution_count": 39,
   "metadata": {},
   "outputs": [],
   "source": [
    "feature_importance_df = pd.DataFrame({\n",
    "    'Feature': expanded_feature_cols,\n",
    "    'Importance': importance_values\n",
    "})\n",
    "\n",
    "feature_importance_df = feature_importance_df.sort_values(by='Importance', ascending=False)"
   ]
  },
  {
   "cell_type": "code",
   "execution_count": 40,
   "metadata": {},
   "outputs": [
    {
     "data": {
      "image/png": "[encoded data removed]",
      "text/plain": [
       "<Figure size 1000x600 with 1 Axes>"
      ]
     },
     "metadata": {},
     "output_type": "display_data"
    }
   ],
   "source": [
    "import matplotlib.pyplot as plt\n",
    "\n",
    "# Sort the features by importance and take the top 10\n",
    "top_10_features = feature_importance_df.sort_values(by='Importance', ascending=False).head(10)\n",
    "\n",
    "# Plot the top 10 features\n",
    "plt.figure(figsize=(10, 6))\n",
    "plt.barh(top_10_features['Feature'], top_10_features['Importance'], color='royalblue')\n",
    "plt.xlabel('Feature Importance')\n",
    "plt.title('Top 10 Gradient Boosted Trees Feature Importances')\n",
    "plt.gca().invert_yaxis()\n",
    "plt.show()"
   ]
  },
  {
   "cell_type": "code",
   "execution_count": 41,
   "metadata": {},
   "outputs": [
    {
     "name": "stdout",
     "output_type": "stream",
     "text": [
      "Category for category_encoded_2: gift, card, novelty, and souvenir shops\n",
      "Category for category_encoded_7: cable, satellite, and other pay television and radio services\n",
      "Category for category_encoded_0: tent and awning shops\n",
      "Category for category_encoded_67: furniture, home furnishings and equipment shops, and manufacturers,  except appliances\n"
     ]
    }
   ],
   "source": [
    "# Explore which category is referred to in feature importance\n",
    "category_indexer_model = indexer_models[2]\n",
    "\n",
    "# Get the list of categories\n",
    "category_labels = category_indexer_model.labels\n",
    "\n",
    "print(f\"Category for category_encoded_2: {category_labels[2]}\")\n",
    "print(f\"Category for category_encoded_7: {category_labels[7]}\")\n",
    "print(f\"Category for category_encoded_0: {category_labels[0]}\")\n",
    "print(f\"Category for category_encoded_67: {category_labels[67]}\")"
   ]
  },
  {
   "cell_type": "markdown",
   "metadata": {},
   "source": [
    "## Export Final Ranking of Top 100 Merchants"
   ]
  },
  {
   "cell_type": "code",
   "execution_count": 17,
   "metadata": {},
   "outputs": [
    {
     "name": "stderr",
     "output_type": "stream",
     "text": [
      "                                                                                \r"
     ]
    }
   ],
   "source": [
    "GBT_predictions = GBT_predictions.limit(100)\n",
    "GBT_predictions.write.parquet('../data/curated/GBT_ranking')"
   ]
  },
  {
   "cell_type": "code",
   "execution_count": 18,
   "metadata": {},
   "outputs": [],
   "source": [
    "spark.stop()"
   ]
  }
 ],
 "metadata": {
  "kernelspec": {
   "display_name": "base",
   "language": "python",
   "name": "python3"
  },
  "language_info": {
   "codemirror_mode": {
    "name": "ipython",
    "version": 3
   },
   "file_extension": ".py",
   "mimetype": "text/x-python",
   "name": "python",
   "nbconvert_exporter": "python",
   "pygments_lexer": "ipython3",
   "version": "3.11.5"
  }
 },
 "nbformat": 4,
 "nbformat_minor": 2
}

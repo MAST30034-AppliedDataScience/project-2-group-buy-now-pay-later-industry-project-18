{
 "cells": [
  {
   "cell_type": "markdown",
   "metadata": {},
   "source": [
    "# Modelling by Merchant Segment\n",
    "## Forecasting Transaction Frequency in Florists"
   ]
  },
  {
   "cell_type": "code",
   "execution_count": 1,
   "metadata": {},
   "outputs": [
    {
     "name": "stderr",
     "output_type": "stream",
     "text": [
      "24/09/25 17:20:42 WARN Utils: Your hostname, Melissas-MacBook-Pro-2.local resolves to a loopback address: 127.0.0.1; using 192.168.0.3 instead (on interface en0)\n",
      "24/09/25 17:20:42 WARN Utils: Set SPARK_LOCAL_IP if you need to bind to another address\n",
      "Setting default log level to \"WARN\".\n",
      "To adjust logging level use sc.setLogLevel(newLevel). For SparkR, use setLogLevel(newLevel).\n",
      "24/09/25 17:20:42 WARN NativeCodeLoader: Unable to load native-hadoop library for your platform... using builtin-java classes where applicable\n"
     ]
    }
   ],
   "source": [
    "# Initialise a spark session\n",
    "import pandas as pd\n",
    "from collections import Counter\n",
    "import os\n",
    "from pyspark.sql import SparkSession\n",
    "from pyspark.sql.window import Window\n",
    "from pyspark.sql import functions as F\n",
    "from pyspark.ml.regression import RandomForestRegressor\n",
    "from pyspark.ml.evaluation import RegressionEvaluator\n",
    "\n",
    "\n",
    "spark = (\n",
    "    SparkSession.builder.appName(\"Florist Model\")\n",
    "    .config(\"spark.sql.repl.eagerEval.enabled\", True)\n",
    "    .config(\"spark.sql.parquet.cacheMetadata\", \"true\")\n",
    "    .config(\"spark.sql.session.timeZone\", \"Etc/UTC\")\n",
    "    .config(\"spark.driver.memory\", \"16g\")  # Increase driver memory\n",
    "    .config(\"spark.executor.memory\", \"16g\")  # Increase executor memory\n",
    "    .config(\"spark.executor.instances\", \"4\")  # Increase the number of executor instances\n",
    "    .config(\"spark.driver.maxResultSize\", \"4g\")\n",
    "    .config(\"spark.sql.shuffle.partitions\", \"100\") \\\n",
    "    .getOrCreate()\n",
    ")"
   ]
  },
  {
   "cell_type": "code",
   "execution_count": 2,
   "metadata": {},
   "outputs": [],
   "source": [
    "# Read transaction file excluding those marked as fraud\n",
    "transactions = spark.read.parquet('../data/curated/flagged_fraud')\n",
    "transactions = transactions.filter(F.col(\"is_fraud\") != True) # Exclude Fraud Transactions"
   ]
  },
  {
   "cell_type": "markdown",
   "metadata": {},
   "source": [
    "## Filter Transactions by Segment (Florists)\n",
    "Apply lower-casing and Levenshtein distance to account for typos."
   ]
  },
  {
   "cell_type": "code",
   "execution_count": 3,
   "metadata": {},
   "outputs": [
    {
     "name": "stdout",
     "output_type": "stream",
     "text": [
      "+------------+---------+-------+------------------+------------------------------------+-----------+--------------------------+------------------+--------------------------------+--------------+-----------------+---------------+----------------------+--------------------------+--------------+----------------+-------------+---------------------------------+-----------------+---------------------------+---------------------------+--------+---------------------------------------------+------------+-----------------+\n",
      "|merchant_abn|year_week|user_id|dollar_value      |order_id                            |consumer_id|fraud_probability_consumer|name_consumer     |address_consumer                |state_consumer|postcode_consumer|gender_consumer|name_merchant         |fraud_probability_merchant|order_datetime|order_month_year|SA4_CODE_2011|SA4_NAME_2011                    |unemployment_rate|consumer_weekly_transaction|merchant_weekly_transaction|is_fraud|merchant_category                            |revenue_band|take_rate        |\n",
      "+------------+---------+-------+------------------+------------------------------------+-----------+--------------------------+------------------+--------------------------------+--------------+-----------------+---------------+----------------------+--------------------------+--------------+----------------+-------------+---------------------------------+-----------------+---------------------------+---------------------------+--------+---------------------------------------------+------------+-----------------+\n",
      "|10385163239 |2021-38  |14196  |484.314115284682  |ca52e3a0-70f1-443c-ad23-ad4455ae72f8|615901     |9.9320244785418           |Stephanie Mcdonald|3278 Osborn Lane Suite 833      |SA            |5142             |Undisclosed    |Sed Et Company        |54.158661656563694        |2021-09-26    |Sep-21          |401          |Adelaide - Central and Hills     |88.7             |576                        |3                          |false   |florists supplies, nursery stock, and flowers|a           |6.610000133514404|\n",
      "|10385163239 |2021-38  |7502   |364.8277632154038 |496dcb3b-313f-4cbb-9581-8b012518004b|1304657    |13.034668669894382        |Whitney Farrell   |45578 Stark Fords Suite 738     |SA            |5606             |Female         |Sed Et Company        |55.17774363420621         |2021-09-24    |Sep-21          |406          |South Australia - Outback        |28.7             |577                        |3                          |false   |florists supplies, nursery stock, and flowers|a           |6.610000133514404|\n",
      "|10385163239 |2021-38  |5298   |687.4878455260039 |e0cd7fab-a553-4d9f-a2e1-db617866a484|560944     |9.364683143823866         |Catherine Case    |199 Clark Gateway Apt. 525      |QLD           |4472             |Female         |Sed Et Company        |54.8557516096363          |2021-09-25    |Sep-21          |315          |Queensland - Outback             |20.9             |581                        |3                          |false   |florists supplies, nursery stock, and flowers|a           |6.610000133514404|\n",
      "|10545955006 |2021-29  |14766  |283.69678248302034|aaad8841-6910-450f-8ae1-f210fd8347f5|207610     |9.235239165565764         |Carlos Harris     |1268 Petersen Place             |SA            |5250             |Male           |Lacus Vestibulum Inc. |54.884127213432976        |2021-07-19    |Jul-21          |401          |Adelaide - Central and Hills     |89.0             |615                        |1                          |false   |florists suppLies, nursery stock, and flowers|a           |6.159999847412109|\n",
      "|11563852275 |2021-46  |5193   |1.1297590572263476|5ecac254-399f-48d0-96ad-853c707c2a0c|472772     |14.441672567741094        |Frederick Frazier |952 Murray Parkway Apt. 865     |WA            |6003             |Male           |Proin Vel Incorporated|49.561433885762895        |2021-11-20    |Nov-21          |503          |Perth - Inner                    |46.9             |591                        |418                        |false   |florists supplies, nursery stock, and flOwers|c           |2.990000009536743|\n",
      "|11563852275 |2021-46  |20437  |106.15662802970007|7e19ac16-74b5-4c40-8f01-efadf1769093|694241     |15.227591154751218        |Charles Solomon   |49682 Richard Overpass Suite 600|NSW           |2072             |Male           |Proin Vel Incorporated|47.636553079251435        |2021-11-20    |Nov-21          |121          |Sydney - North Sydney and Hornsby|110.9            |580                        |418                        |false   |florists supplies, nursery stock, and flOwers|c           |2.990000009536743|\n",
      "|11563852275 |2021-46  |23145  |115.9078740649044 |bcc7f9d6-c5a8-46b6-86ee-2b8419c8d420|351745     |18.979920544750325        |Cody Stewart      |25527 James Prairie             |QLD           |4559             |Male           |Proin Vel Incorporated|49.76903195942027         |2021-11-20    |Nov-21          |316          |Sunshine Coast                   |127.9            |576                        |418                        |false   |florists supplies, nursery stock, and flOwers|c           |2.990000009536743|\n",
      "|11563852275 |2021-46  |22196  |173.34094332342914|8d28ad36-9586-4971-8ac8-7c43cbf0c18c|597234     |11.48686902909658         |Donna Harris      |918 Terry Gardens Apt. 853      |VIC           |3286             |Female         |Proin Vel Incorporated|49.81824616124028         |2021-11-15    |Nov-21          |217          |Warrnambool and South West       |38.7             |605                        |418                        |false   |florists supplies, nursery stock, and flOwers|c           |2.990000009536743|\n",
      "|11563852275 |2021-46  |11610  |56.36755939593309 |ebfd57ef-5c1d-4298-b85b-b22afc92e2d6|879882     |16.747690941537975        |Amanda Hernandez  |59427 Gabriel Bridge            |VIC           |3945             |Female         |Proin Vel Incorporated|46.461164152857926        |2021-11-20    |Nov-21          |205          |Latrobe - Gippsland              |103.3            |587                        |418                        |false   |florists supplies, nursery stock, and flOwers|c           |2.990000009536743|\n",
      "|11563852275 |2021-46  |2902   |197.01891922331217|e3256208-8887-4799-952c-375ac5e6ef12|518013     |15.618653638942089        |Jenny York        |917 Zachary Rest                |SA            |5654             |Female         |Proin Vel Incorporated|51.99396280716312         |2021-11-20    |Nov-21          |406          |South Australia - Outback        |28.6             |589                        |418                        |false   |florists supplies, nursery stock, and flOwers|c           |2.990000009536743|\n",
      "+------------+---------+-------+------------------+------------------------------------+-----------+--------------------------+------------------+--------------------------------+--------------+-----------------+---------------+----------------------+--------------------------+--------------+----------------+-------------+---------------------------------+-----------------+---------------------------+---------------------------+--------+---------------------------------------------+------------+-----------------+\n",
      "only showing top 10 rows\n",
      "\n"
     ]
    }
   ],
   "source": [
    "from pyspark.sql.functions import lower, col\n",
    "\n",
    "florist_transactions = transactions.filter(lower(col(\"merchant_category\")).contains(\"florists\"))\n",
    "\n",
    "florist_transactions.show(truncate=False, n=10)\n"
   ]
  },
  {
   "cell_type": "markdown",
   "metadata": {},
   "source": [
    "## Feature Engineering: Ratio of Returning Customers (Yearly)\n",
    "* Florists tend to have smaller order values, as indicated by the revenue bands\n",
    "* Flowers are seasonal\n",
    "* Thus the heuristic feature of choice would be the ratio of returning customers\n",
    "* The data is aggregated on a yearly basis to account for the returning customers"
   ]
  },
  {
   "cell_type": "code",
   "execution_count": 4,
   "metadata": {},
   "outputs": [
    {
     "name": "stderr",
     "output_type": "stream",
     "text": [
      "[Stage 3:====================================================>     (9 + 1) / 10]\r"
     ]
    },
    {
     "name": "stdout",
     "output_type": "stream",
     "text": [
      "+------------+----------+------------------+--------------------+------------------------------+------------------------------+--------------------+--------------------+----------------+---------------------+---------------------+\n",
      "|merchant_abn|order_year|total_transactions|average_dollar_value|avg_fraud_probability_merchant|avg_fraud_probability_consumer|       merchant_name|   merchant_category|repeat_customers|repeat_customer_ratio|previous_repeat_ratio|\n",
      "+------------+----------+------------------+--------------------+------------------------------+------------------------------+--------------------+--------------------+----------------+---------------------+---------------------+\n",
      "| 10385163239|      2021|                51|   324.9159337084658|             55.77091422960027|            13.350156006300637|      Sed Et Company|florists supplies...|               0|                  0.0|                  0.0|\n",
      "| 10385163239|      2022|                 9|   245.5970374443057|             55.76158903467379|            13.315571773522983|      Sed Et Company|florists supplies...|               0|                  0.0|                  0.0|\n",
      "| 10545955006|      2021|               282|  404.99980676606776|             55.03800560760481|             14.38120970870846|Lacus Vestibulum ...|florists suppLies...|              10|  0.03546099290780142|                  0.0|\n",
      "| 10545955006|      2022|                59|   393.9549512549168|            54.901822286045885|            12.688191856377491|Lacus Vestibulum ...|florists suppLies...|              10|   0.1694915254237288|  0.03546099290780142|\n",
      "| 11563852275|      2021|              1801|   144.7658091178267|             48.38422291621577|            13.832311200743414|Proin Vel Incorpo...|florists supplies...|             252|   0.1399222654081066|                  0.0|\n",
      "+------------+----------+------------------+--------------------+------------------------------+------------------------------+--------------------+--------------------+----------------+---------------------+---------------------+\n",
      "only showing top 5 rows\n",
      "\n"
     ]
    },
    {
     "name": "stderr",
     "output_type": "stream",
     "text": [
      "                                                                                \r"
     ]
    }
   ],
   "source": [
    "from pyspark.sql import functions as F\n",
    "from pyspark.sql.window import Window\n",
    "\n",
    "# Step 1: Add a new column for 'order_year' from 'order_datetime'\n",
    "florist_transactions = florist_transactions.withColumn('order_year', F.year(F.col('order_datetime')))\n",
    "\n",
    "# Step 2: Calculate total transactions, dollar_value, fraud_probability for each merchant per year\n",
    "total_transactions_df = florist_transactions.groupBy('merchant_abn', 'order_year').agg(\n",
    "    F.count(\"order_id\").alias(\"total_transactions\"),\n",
    "    F.avg(\"dollar_value\").alias(\"average_dollar_value\"),  # Include average dollar value\n",
    "    F.avg(\"fraud_probability_merchant\").alias(\"avg_fraud_probability_merchant\"),  # Include average fraud prob merchant\n",
    "    F.avg(\"fraud_probability_consumer\").alias(\"avg_fraud_probability_consumer\"),  # Include average fraud prob consumer,\n",
    "    F.first(\"name_merchant\").alias(\"merchant_name\"),\n",
    "    F.first(\"merchant_category\").alias(\"merchant_category\")\n",
    ")\n",
    "\n",
    "# Step 3: Calculate repeat customers per merchant per year\n",
    "repeat_customers_df = florist_transactions.groupBy(\"merchant_abn\", \"user_id\").agg(\n",
    "    F.count(\"order_id\").alias(\"customer_transactions\")\n",
    ").filter(F.col(\"customer_transactions\") > 1) \\\n",
    " .groupBy(\"merchant_abn\").agg(F.count(\"user_id\").alias(\"repeat_customers\"))\n",
    "\n",
    "# Step 4: Join the total transactions and repeat customers\n",
    "yearly_repeat_ratio_df = total_transactions_df.join(repeat_customers_df, on=\"merchant_abn\", how=\"left\")\n",
    "\n",
    "# Step 5: Fill null values in the 'repeat_customers' column with 0\n",
    "yearly_repeat_ratio_df = yearly_repeat_ratio_df.withColumn(\n",
    "    \"repeat_customers\", F.coalesce(F.col(\"repeat_customers\"), F.lit(0))\n",
    ")\n",
    "\n",
    "# Step 6: Calculate the repeat customer ratio for each merchant per year\n",
    "yearly_repeat_ratio_df = yearly_repeat_ratio_df.withColumn(\n",
    "    \"repeat_customer_ratio\", F.col(\"repeat_customers\") / F.col(\"total_transactions\")\n",
    ")\n",
    "\n",
    "# Step 7: Create lag features for past repeat customer ratios (previous year)\n",
    "window_spec = Window.partitionBy('merchant_abn').orderBy('order_year')\n",
    "\n",
    "# Add lag feature for previous year's repeat customer ratio\n",
    "yearly_repeat_ratio_df = yearly_repeat_ratio_df.withColumn(\n",
    "    'previous_repeat_ratio', F.lag('repeat_customer_ratio', 1).over(window_spec)\n",
    ")\n",
    "\n",
    "# Fill null values in the lag column with 0 (for the first year)\n",
    "yearly_repeat_ratio_df = yearly_repeat_ratio_df.fillna({'previous_repeat_ratio': 0})\n",
    "\n",
    "# Step 8: Add other relevant features (average dollar value, fraud probability)\n",
    "# These columns are already present in yearly_repeat_ratio_df\n",
    "\n",
    "# Display the resulting DataFrame\n",
    "yearly_repeat_ratio_df.show(5)\n"
   ]
  },
  {
   "cell_type": "markdown",
   "metadata": {},
   "source": [
    "## Random Forest Regression to Forecast Future Repeat Customer Ratio"
   ]
  },
  {
   "cell_type": "code",
   "execution_count": 5,
   "metadata": {},
   "outputs": [],
   "source": [
    "from pyspark.ml.regression import RandomForestRegressor\n",
    "from pyspark.ml.feature import VectorAssembler, StandardScaler\n",
    "from pyspark.ml import Pipeline\n",
    "from pyspark.ml.evaluation import RegressionEvaluator\n",
    "\n",
    "# Step 1: Feature Engineering\n",
    "# Select relevant features for modeling\n",
    "feature_columns = ['total_transactions', 'average_dollar_value', 'avg_fraud_probability_merchant', \n",
    "                   'avg_fraud_probability_consumer', 'previous_repeat_ratio']\n",
    "\n",
    "# Assemble features into a single vector column\n",
    "assembler = VectorAssembler(inputCols=feature_columns, outputCol=\"features\")\n",
    "\n",
    "# Scale the features\n",
    "scaler = StandardScaler(inputCol=\"features\", outputCol=\"scaled_features\")\n",
    "\n",
    "# Step 4: Random Forest Regressor Setup\n",
    "rf = RandomForestRegressor(featuresCol='scaled_features', labelCol='repeat_customer_ratio')\n",
    "\n",
    "# Step 5: Create a Pipeline\n",
    "pipeline = Pipeline(stages=[assembler, scaler, rf])"
   ]
  },
  {
   "cell_type": "code",
   "execution_count": 6,
   "metadata": {},
   "outputs": [
    {
     "name": "stderr",
     "output_type": "stream",
     "text": [
      "24/09/25 17:20:54 WARN GarbageCollectionMetrics: To enable non-built-in garbage collector(s) List(G1 Concurrent GC), users should configure it(them) to spark.eventLog.gcMetrics.youngGenerationGarbageCollectors or spark.eventLog.gcMetrics.oldGenerationGarbageCollectors\n",
      "                                                                                \r"
     ]
    },
    {
     "name": "stdout",
     "output_type": "stream",
     "text": [
      "Root Mean Squared Error (RMSE): 0.08831263051232179\n",
      "R-squared (R²): 0.8995356691250309\n"
     ]
    },
    {
     "name": "stderr",
     "output_type": "stream",
     "text": [
      "[Stage 94:===================================================>     (9 + 1) / 10]\r"
     ]
    },
    {
     "name": "stdout",
     "output_type": "stream",
     "text": [
      "+------------+----------+---------------------+-------------------+\n",
      "|merchant_abn|order_year|repeat_customer_ratio|         prediction|\n",
      "+------------+----------+---------------------+-------------------+\n",
      "| 10545955006|      2021|  0.03546099290780142|0.05830292979827208|\n",
      "| 12296390138|      2021|  0.16483516483516483|0.11306415908290886|\n",
      "| 13108046922|      2021|                  0.0|0.03344361048917285|\n",
      "| 13401263605|      2022|                  0.0|0.03559208367838205|\n",
      "| 14796275705|      2022|                  0.0|0.11774011768624475|\n",
      "+------------+----------+---------------------+-------------------+\n",
      "only showing top 5 rows\n",
      "\n"
     ]
    },
    {
     "name": "stderr",
     "output_type": "stream",
     "text": [
      "                                                                                \r"
     ]
    }
   ],
   "source": [
    "# Step 6: Split Data into Training and Testing Sets\n",
    "train_data, test_data = yearly_repeat_ratio_df.randomSplit([0.8, 0.2], seed=42)\n",
    "\n",
    "# Step 7: Train the Random Forest Model\n",
    "rf_model = pipeline.fit(train_data)\n",
    "\n",
    "# Step 8: Evaluate Model on Test Data\n",
    "predictions = rf_model.transform(test_data)\n",
    "\n",
    "# Evaluate the model's performance using RMSE and R-squared\n",
    "evaluator = RegressionEvaluator(labelCol=\"repeat_customer_ratio\", predictionCol=\"prediction\", metricName=\"rmse\")\n",
    "rmse = evaluator.evaluate(predictions)\n",
    "r2 = evaluator.evaluate(predictions, {evaluator.metricName: \"r2\"})\n",
    "\n",
    "print(f\"Root Mean Squared Error (RMSE): {rmse}\")\n",
    "print(f\"R-squared (R²): {r2}\")\n",
    "\n",
    "# Show some predictions alongside actual values\n",
    "predictions.select(\"merchant_abn\", \"order_year\", \"repeat_customer_ratio\", \"prediction\").show(5)"
   ]
  },
  {
   "cell_type": "code",
   "execution_count": 7,
   "metadata": {},
   "outputs": [
    {
     "name": "stderr",
     "output_type": "stream",
     "text": [
      "                                                                                \r"
     ]
    },
    {
     "name": "stdout",
     "output_type": "stream",
     "text": [
      "+------------+----------+--------------------+\n",
      "|merchant_abn|order_year|          prediction|\n",
      "+------------+----------+--------------------+\n",
      "| 10385163239|      2023| 0.04082535339665512|\n",
      "| 10545955006|      2023| 0.05830292979827208|\n",
      "| 11563852275|      2023| 0.14110118784184894|\n",
      "| 12296390138|      2023| 0.11306415908290886|\n",
      "| 13108046922|      2023| 0.03344361048917285|\n",
      "| 13297955415|      2023|  0.0272997542241512|\n",
      "| 13401263605|      2023| 0.05387128452719405|\n",
      "| 13942467372|      2023|0.027111806569691393|\n",
      "| 14602793938|      2023|0.030893350116233703|\n",
      "| 14796275705|      2023| 0.01555700016899245|\n",
      "+------------+----------+--------------------+\n",
      "only showing top 10 rows\n",
      "\n"
     ]
    }
   ],
   "source": [
    "from pyspark.sql import functions as F\n",
    "from pyspark.sql.window import Window\n",
    "\n",
    "# Step 1: Generate the future projection dataset\n",
    "# Project future years based on the last available year for each merchant\n",
    "future_repeat_ratio_df = yearly_repeat_ratio_df.groupBy('merchant_abn').agg(F.max('order_year').alias('latest_year'))\n",
    "\n",
    "# Generate future year column\n",
    "num_future_years = 1  # Number of future years to project\n",
    "future_years = [(year,) for year in range(2023, 2023 + num_future_years)]  # Specify the future years you want to predict\n",
    "future_years_df = spark.createDataFrame(future_years, ['order_year'])\n",
    "\n",
    "# Cross-join merchants with future years\n",
    "future_data = future_repeat_ratio_df.crossJoin(future_years_df)\n",
    "\n",
    "# Step 2: Join the features from the latest available year for each merchant\n",
    "latest_data = yearly_repeat_ratio_df.groupBy('merchant_abn').agg(\n",
    "    F.max('order_year').alias('latest_year'),\n",
    "    F.first('total_transactions').alias('total_transactions'),\n",
    "    F.first('average_dollar_value').alias('average_dollar_value'),\n",
    "    F.first('avg_fraud_probability_merchant').alias('avg_fraud_probability_merchant'),\n",
    "    F.first('avg_fraud_probability_consumer').alias('avg_fraud_probability_consumer'),\n",
    "    F.first('previous_repeat_ratio').alias('previous_repeat_ratio'),\n",
    "    F.first('merchant_name').alias('merchant_name'),\n",
    "    F.first(\"merchant_category\").alias(\"merchant_category\")\n",
    ")\n",
    "\n",
    "# Join the latest available features with the future data\n",
    "future_data = future_data.join(latest_data, on='merchant_abn', how='left')\n",
    "\n",
    "# Step 3: Apply the trained model to predict the future repeat customer ratio\n",
    "future_data = rf_model.transform(future_data)\n",
    "\n",
    "# Step 4: Show predicted repeat customer ratio for future years\n",
    "future_data.select('merchant_abn', 'order_year', 'prediction').show(10)\n"
   ]
  },
  {
   "cell_type": "code",
   "execution_count": 8,
   "metadata": {},
   "outputs": [],
   "source": [
    "future_predictions = future_data.withColumnRenamed('prediction', 'projected_return_cust_ratio')\n",
    "future_predictions = future_predictions.orderBy(F.col('projected_return_cust_ratio').desc())"
   ]
  },
  {
   "cell_type": "code",
   "execution_count": 9,
   "metadata": {},
   "outputs": [],
   "source": [
    "future_predictions = future_predictions.select('merchant_abn', 'order_year', 'total_transactions', 'average_dollar_value',\n",
    "                                               'avg_fraud_probability_merchant', 'avg_fraud_probability_consumer', 'projected_return_cust_ratio','merchant_name','merchant_category')"
   ]
  },
  {
   "cell_type": "code",
   "execution_count": 10,
   "metadata": {},
   "outputs": [
    {
     "name": "stderr",
     "output_type": "stream",
     "text": [
      "                                                                                \r"
     ]
    },
    {
     "name": "stdout",
     "output_type": "stream",
     "text": [
      "+------------+----------+------------------+--------------------+------------------------------+------------------------------+---------------------------+------------------------------+---------------------------------------------+\n",
      "|merchant_abn|order_year|total_transactions|average_dollar_value|avg_fraud_probability_merchant|avg_fraud_probability_consumer|projected_return_cust_ratio|merchant_name                 |merchant_category                            |\n",
      "+------------+----------+------------------+--------------------+------------------------------+------------------------------+---------------------------+------------------------------+---------------------------------------------+\n",
      "|33607911449 |2023      |5029              |29.77431590295652   |29.354820107111507            |12.817290438602107            |0.2670265860786621         |Nulla Semper LLC              |florists supplies, nursery stock, and flowers|\n",
      "|21772962346 |2023      |23829             |134.64395525980592  |29.131465404078885            |12.871646625372854            |0.26332158993481436        |Purus Gravida Sagittis Ltd    |florists supplies, nursery stock, and flowers|\n",
      "|58392414752 |2023      |11813             |132.79032592478384  |29.361200715262               |12.900840843795995            |0.24433004083860851        |Mattis Ornare Lectus Inc.     |florists supplies, nursery stock, and flOwers|\n",
      "|76314317957 |2023      |23460             |131.3539009387945   |29.359736723869425            |12.90263687262328             |0.24433004083860851        |Semper Corp.                  |florists supplies, nursery stock, and flOwers|\n",
      "|80682333501 |2023      |20609             |14.98234220653276   |32.265460576359               |12.89988355812378             |0.23681707847523045        |Orci Corp.                    |florists supplies, nursery stock, and flowers|\n",
      "|43186523025 |2023      |143843            |45.07444791137964   |29.3274802590941              |12.876656478390938            |0.23224967143640157        |Lorem Ipsum Sodales Industries|florists supplies, nurSery stock, and flowers|\n",
      "|76646764782 |2023      |6611              |134.35229927382844  |29.361826003559372            |12.946931749644568            |0.22876322822587475        |Tempor Diam Inc.              |florists supplies, nursery stock, and flowers|\n",
      "|80982848464 |2023      |5979              |131.91947305375837  |31.361736839303774            |12.99145641264298             |0.2276804251272031         |Tempor Augue Limited          |florists supplies, nursery stock, and flowers|\n",
      "|24852446429 |2023      |208102            |30.018502597385833  |29.351143066025873            |12.862270920287257            |0.22133477784971678        |Erat Vitae LLP                |florists supplies, nursery stock, and floWers|\n",
      "|32709729094 |2023      |4503              |30.291010658219864  |29.352340836530406            |12.977431881611093            |0.20797299185339085        |Odio Auctor Corp.             |florists supplies, nursery stock, and fLowers|\n",
      "+------------+----------+------------------+--------------------+------------------------------+------------------------------+---------------------------+------------------------------+---------------------------------------------+\n",
      "only showing top 10 rows\n",
      "\n"
     ]
    }
   ],
   "source": [
    "future_predictions.show(truncate=False, n=10)"
   ]
  },
  {
   "cell_type": "markdown",
   "metadata": {},
   "source": [
    "## Export Ranking and Relevant Columns"
   ]
  },
  {
   "cell_type": "code",
   "execution_count": 11,
   "metadata": {},
   "outputs": [],
   "source": [
    "future_predictions = future_predictions.select('merchant_abn', 'merchant_name', 'merchant_category', 'order_year', 'projected_return_cust_ratio')"
   ]
  },
  {
   "cell_type": "code",
   "execution_count": 12,
   "metadata": {},
   "outputs": [
    {
     "name": "stderr",
     "output_type": "stream",
     "text": [
      "                                                                                \r"
     ]
    }
   ],
   "source": [
    "future_predictions.write.parquet('../data/curated/florists_ranking')"
   ]
  }
 ],
 "metadata": {
  "kernelspec": {
   "display_name": "base",
   "language": "python",
   "name": "python3"
  },
  "language_info": {
   "codemirror_mode": {
    "name": "ipython",
    "version": 3
   },
   "file_extension": ".py",
   "mimetype": "text/x-python",
   "name": "python",
   "nbconvert_exporter": "python",
   "pygments_lexer": "ipython3",
   "version": "3.11.5"
  }
 },
 "nbformat": 4,
 "nbformat_minor": 2
}

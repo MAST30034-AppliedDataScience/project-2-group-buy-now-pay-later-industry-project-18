{
 "cells": [
  {
   "cell_type": "markdown",
   "metadata": {},
   "source": [
    "# Random Forest Regression to Forecast Merchant Monthly Revenue\n",
    "This notebook will cover the RF modelling employed to create an overall merchant ranking by their projected monthly revenue."
   ]
  },
  {
   "cell_type": "code",
   "execution_count": 28,
   "metadata": {},
   "outputs": [],
   "source": [
    "# Initialise a spark session\n",
    "import pandas as pd\n",
    "from collections import Counter\n",
    "import os\n",
    "from pyspark.sql import SparkSession\n",
    "from pyspark.sql.window import Window\n",
    "from pyspark.sql import functions as F\n",
    "from pyspark.ml.regression import RandomForestRegressor\n",
    "from pyspark.ml.evaluation import RegressionEvaluator\n",
    "\n",
    "\n",
    "spark = (\n",
    "    SparkSession.builder.appName(\"RF Model\")\n",
    "    .config(\"spark.sql.repl.eagerEval.enabled\", True)\n",
    "    .config(\"spark.sql.parquet.cacheMetadata\", \"true\")\n",
    "    .config(\"spark.sql.session.timeZone\", \"Etc/UTC\")\n",
    "    .config(\"spark.driver.memory\", \"16g\")  # Increase driver memory\n",
    "    .config(\"spark.executor.memory\", \"16g\")  # Increase executor memory\n",
    "    .config(\"spark.executor.instances\", \"4\")  # Increase the number of executor instances\n",
    "    .config(\"spark.driver.maxResultSize\", \"4g\")\n",
    "    .config(\"spark.sql.shuffle.partitions\", \"100\") \\\n",
    "    .getOrCreate()\n",
    ")"
   ]
  },
  {
   "cell_type": "code",
   "execution_count": 29,
   "metadata": {},
   "outputs": [],
   "source": [
    "spark.catalog.clearCache()\n"
   ]
  },
  {
   "cell_type": "code",
   "execution_count": 30,
   "metadata": {},
   "outputs": [],
   "source": [
    "# Read transaction file\n",
    "transactions = spark.read.parquet('../data/curated/flagged_fraud')\n",
    "transactions = transactions.filter(F.col(\"is_fraud\") != True)"
   ]
  },
  {
   "cell_type": "code",
   "execution_count": 31,
   "metadata": {},
   "outputs": [
    {
     "name": "stdout",
     "output_type": "stream",
     "text": [
      "root\n",
      " |-- merchant_abn: long (nullable = true)\n",
      " |-- year_week: string (nullable = true)\n",
      " |-- user_id: long (nullable = true)\n",
      " |-- dollar_value: double (nullable = true)\n",
      " |-- order_id: string (nullable = true)\n",
      " |-- consumer_id: long (nullable = true)\n",
      " |-- fraud_probability_consumer: double (nullable = true)\n",
      " |-- name_consumer: string (nullable = true)\n",
      " |-- address_consumer: string (nullable = true)\n",
      " |-- state_consumer: string (nullable = true)\n",
      " |-- postcode_consumer: integer (nullable = true)\n",
      " |-- gender_consumer: string (nullable = true)\n",
      " |-- name_merchant: string (nullable = true)\n",
      " |-- fraud_probability_merchant: double (nullable = true)\n",
      " |-- order_datetime: date (nullable = true)\n",
      " |-- order_month_year: string (nullable = true)\n",
      " |-- SA4_CODE_2011: string (nullable = true)\n",
      " |-- SA4_NAME_2011: string (nullable = true)\n",
      " |-- unemployment_rate: string (nullable = true)\n",
      " |-- consumer_weekly_transaction: long (nullable = true)\n",
      " |-- merchant_weekly_transaction: long (nullable = true)\n",
      " |-- is_fraud: boolean (nullable = true)\n",
      " |-- merchant_category: string (nullable = true)\n",
      " |-- revenue_band: string (nullable = true)\n",
      " |-- take_rate: double (nullable = true)\n",
      "\n"
     ]
    }
   ],
   "source": [
    "transactions.printSchema()"
   ]
  },
  {
   "cell_type": "markdown",
   "metadata": {},
   "source": [
    "### Feature Engineering"
   ]
  },
  {
   "cell_type": "code",
   "execution_count": 32,
   "metadata": {},
   "outputs": [],
   "source": [
    "# Aggregating monthly revenue for each merchant\n",
    "monthly_revenue_df = transactions.groupBy('merchant_abn', 'order_month_year').agg(\n",
    "    F.sum('dollar_value').alias('monthly_revenue'),\n",
    "    F.count('order_id').alias('transaction_count'),\n",
    "    F.avg('fraud_probability_merchant').alias('avg_fraud_probability_merchant'),\n",
    "    F.first('name_merchant').alias('merchant_name'),\n",
    "    F.avg('take_rate').alias('avg_take_rate'),\n",
    "    F.first('revenue_band').alias('revenue_band'),\n",
    "    F.first('merchant_category').alias('merchant_category')\n",
    ")\n",
    "    \n",
    "# Aggregating consumer-level features (most common state and gender for each merchant)\n",
    "\n",
    "# Most common consumer state per merchant\n",
    "consumer_state_mode = transactions.groupBy('merchant_abn', 'state_consumer').count() \\\n",
    "    .withColumn('row_num', F.row_number().over(Window.partitionBy('merchant_abn').orderBy(F.desc('count')))) \\\n",
    "    .filter(F.col('row_num') == 1) \\\n",
    "    .select('merchant_abn', 'state_consumer')\n",
    "\n",
    "# Most common consumer gender per merchant\n",
    "consumer_gender_mode = transactions.groupBy('merchant_abn', 'gender_consumer').count() \\\n",
    "    .withColumn('row_num', F.row_number().over(Window.partitionBy('merchant_abn').orderBy(F.desc('count')))) \\\n",
    "    .filter(F.col('row_num') == 1) \\\n",
    "    .select('merchant_abn', 'gender_consumer')\n",
    "\n",
    "# Average Unemployment Rate per Merchant Month-Year\n",
    "transactions = transactions.withColumn(\"unemployment_rate_numeric\", F.col(\"unemployment_rate\").cast(\"float\"))\n",
    "\n",
    "unemployment_agg = transactions.groupBy('merchant_abn', 'order_month_year').agg(\n",
    "    F.avg('unemployment_rate_numeric').alias('avg_unemployment_rate')\n",
    ")"
   ]
  },
  {
   "cell_type": "code",
   "execution_count": 33,
   "metadata": {},
   "outputs": [
    {
     "name": "stderr",
     "output_type": "stream",
     "text": [
      "                                                                                \r"
     ]
    },
    {
     "name": "stdout",
     "output_type": "stream",
     "text": [
      "+------------+----------------+------------------+-----------------+------------------------------+--------------------+-------------------+------------+--------------------+--------------+---------------+---------------------+\n",
      "|merchant_abn|order_month_year|   monthly_revenue|transaction_count|avg_fraud_probability_merchant|       merchant_name|      avg_take_rate|revenue_band|   merchant_category|state_consumer|gender_consumer|avg_unemployment_rate|\n",
      "+------------+----------------+------------------+-----------------+------------------------------+--------------------+-------------------+------------+--------------------+--------------+---------------+---------------------+\n",
      "| 10023283211|          Feb-22| 48572.88260819351|              215|             56.06942278917232|       Felis Limited|0.18000000715255737|           e|furniture, home f...|           NSW|           Male|    71.28418544059576|\n",
      "| 10023283211|          Oct-21|  70276.0243256525|              357|            55.892658715648686|       Felis Limited|0.18000000715255737|           e|furniture, home f...|           NSW|           Male|     79.2271712808048|\n",
      "| 10142254217|          Feb-22|  8761.41669580623|              218|             56.29440748705243|Arcu Ac Orci Corp...|   4.21999979019165|           b|cable, satellite,...|           NSW|           Male|    76.60733880471746|\n",
      "| 10142254217|          May-21|2031.1632147275022|               68|             55.92988477860094|Arcu Ac Orci Corp...|   4.21999979019165|           b|cable, satellite,...|           NSW|           Male|    74.11911787706264|\n",
      "| 10142254217|          Nov-21|13097.452353073131|              315|             55.47863229844303|Arcu Ac Orci Corp...|   4.21999979019165|           b|cable, satellite,...|           NSW|           Male|    78.20253993745834|\n",
      "+------------+----------------+------------------+-----------------+------------------------------+--------------------+-------------------+------------+--------------------+--------------+---------------+---------------------+\n",
      "only showing top 5 rows\n",
      "\n"
     ]
    }
   ],
   "source": [
    "# Joining Datasets\n",
    "monthly_revenue_df = monthly_revenue_df.join(consumer_state_mode, on='merchant_abn', how='left') \\\n",
    "                                      .join(consumer_gender_mode, on='merchant_abn', how='left')\n",
    "\n",
    "# Join with unemployment data on both 'merchant_abn' and 'order_month_year'\n",
    "monthly_revenue_df = monthly_revenue_df.join(unemployment_agg, on=['merchant_abn', 'order_month_year'], how='left')\n",
    "\n",
    "# Show the final dataframe\n",
    "monthly_revenue_df.show(5)"
   ]
  },
  {
   "cell_type": "code",
   "execution_count": 34,
   "metadata": {},
   "outputs": [
    {
     "name": "stderr",
     "output_type": "stream",
     "text": [
      "                                                                                \r"
     ]
    },
    {
     "name": "stdout",
     "output_type": "stream",
     "text": [
      "+------------+----------------+---------------+-----------------+------------------------------+-------------+-------------+------------+-----------------+--------------+---------------+---------------------+\n",
      "|merchant_abn|order_month_year|monthly_revenue|transaction_count|avg_fraud_probability_merchant|merchant_name|avg_take_rate|revenue_band|merchant_category|state_consumer|gender_consumer|avg_unemployment_rate|\n",
      "+------------+----------------+---------------+-----------------+------------------------------+-------------+-------------+------------+-----------------+--------------+---------------+---------------------+\n",
      "|           0|               0|              0|                0|                             0|            0|            0|           0|                0|             0|              0|                    0|\n",
      "+------------+----------------+---------------+-----------------+------------------------------+-------------+-------------+------------+-----------------+--------------+---------------+---------------------+\n",
      "\n"
     ]
    }
   ],
   "source": [
    "# Checking for Missing Values\n",
    "nulls = monthly_revenue_df.agg(\n",
    "    *(F.sum(F.when(F.col(c).isNull(), 1).otherwise(0)).alias(c) for c in monthly_revenue_df.columns)\n",
    ")\n",
    "\n",
    "# Show the result\n",
    "nulls.show()"
   ]
  },
  {
   "cell_type": "code",
   "execution_count": 35,
   "metadata": {},
   "outputs": [
    {
     "name": "stderr",
     "output_type": "stream",
     "text": [
      "                                                                                \r"
     ]
    },
    {
     "name": "stdout",
     "output_type": "stream",
     "text": [
      "+------------+----------------+------------------+-----------------+------------------------------+-------------+-------------------+------------+--------------------+--------------+---------------+---------------------+----------------------+--------------------+\n",
      "|merchant_abn|order_month_year|   monthly_revenue|transaction_count|avg_fraud_probability_merchant|merchant_name|      avg_take_rate|revenue_band|   merchant_category|state_consumer|gender_consumer|avg_unemployment_rate|previous_month_revenue|      revenue_growth|\n",
      "+------------+----------------+------------------+-----------------+------------------------------+-------------+-------------------+------------+--------------------+--------------+---------------+---------------------+----------------------+--------------------+\n",
      "| 10023283211|          Apr-21| 9221.405806871098|               47|             56.03849374950703|Felis Limited|0.18000000715255737|           e|furniture, home f...|           NSW|           Male|    74.54042625427246|                   0.0|                 0.0|\n",
      "| 10023283211|          Aug-21|15807.479921460479|               86|              56.2429773174978|Felis Limited|0.18000000715255737|           e|furniture, home f...|           NSW|           Male|    80.79883797224178|     9221.405806871098|   0.714215842196418|\n",
      "| 10023283211|          Dec-21| 66067.74432316715|              316|             55.74664488810392|Felis Limited|0.18000000715255737|           e|furniture, home f...|           NSW|           Male|    76.78892362570461|    15807.479921460479|  3.1795241652322175|\n",
      "| 10023283211|          Feb-22| 48572.88260819351|              215|             56.06942278917232|Felis Limited|0.18000000715255737|           e|furniture, home f...|           NSW|           Male|    71.28418544059576|     66067.74432316715|-0.26480186200089373|\n",
      "| 10023283211|          Jan-22| 54047.30238869876|              266|             55.93287312896705|Felis Limited|0.18000000715255737|           e|furniture, home f...|           NSW|           Male|    78.02368530474212|     48572.88260819351| 0.11270526858914061|\n",
      "+------------+----------------+------------------+-----------------+------------------------------+-------------+-------------------+------------+--------------------+--------------+---------------+---------------------+----------------------+--------------------+\n",
      "only showing top 5 rows\n",
      "\n"
     ]
    }
   ],
   "source": [
    "# Creating lag features to include previous month's revenue\n",
    "window_spec = Window.partitionBy('merchant_abn').orderBy('order_month_year')\n",
    "\n",
    "# Lagging features: Previous month's revenue\n",
    "monthly_revenue_df = monthly_revenue_df.withColumn(\n",
    "    'previous_month_revenue', F.lag('monthly_revenue', 1).over(window_spec)\n",
    ")\n",
    "\n",
    "# Calculate revenue growth (percentage change)\n",
    "monthly_revenue_df = monthly_revenue_df.withColumn(\n",
    "    'revenue_growth',\n",
    "    F.when(F.col('previous_month_revenue') > 0, \n",
    "           (F.col('monthly_revenue') - F.col('previous_month_revenue')) / F.col('previous_month_revenue'))\n",
    "    .otherwise(F.lit(0))  # Fill with 0 if there is no previous revenue\n",
    ")\n",
    "\n",
    "# Fill NA values for first month with 0 (no previous data available)\n",
    "monthly_revenue_df = monthly_revenue_df.fillna({'previous_month_revenue': 0, 'revenue_growth': 0})\n",
    "\n",
    "\n",
    "monthly_revenue_df = monthly_revenue_df.fillna(0)  # Filling NA values for first month\n",
    "monthly_revenue_df.show(5)"
   ]
  },
  {
   "cell_type": "markdown",
   "metadata": {},
   "source": [
    "### Data Preparation"
   ]
  },
  {
   "cell_type": "code",
   "execution_count": 36,
   "metadata": {},
   "outputs": [
    {
     "name": "stderr",
     "output_type": "stream",
     "text": [
      "                                                                                \r"
     ]
    },
    {
     "name": "stdout",
     "output_type": "stream",
     "text": [
      "+------------+----------------+--------------------+\n",
      "|merchant_abn|order_month_year|     scaled_features|\n",
      "+------------+----------------+--------------------+\n",
      "| 10023283211|          Apr-21|(145,[0,1,2,3,4,1...|\n",
      "| 10023283211|          Aug-21|(145,[0,1,2,3,4,1...|\n",
      "| 10023283211|          Dec-21|(145,[0,1,2,3,4,1...|\n",
      "| 10023283211|          Feb-22|(145,[0,1,2,3,4,1...|\n",
      "| 10023283211|          Jan-22|(145,[0,1,2,3,4,1...|\n",
      "+------------+----------------+--------------------+\n",
      "only showing top 5 rows\n",
      "\n"
     ]
    }
   ],
   "source": [
    "from pyspark.ml.feature import StandardScaler, StringIndexer, OneHotEncoder, VectorAssembler\n",
    "from pyspark.ml import Pipeline\n",
    "\n",
    "# StringIndexing categorical columns (merchant_tags, consumer_state, gender_consumer)\n",
    "indexers = [\n",
    "    StringIndexer(inputCol='state_consumer', outputCol='state_consumer_indexed', handleInvalid='keep'),\n",
    "    StringIndexer(inputCol='gender_consumer', outputCol='gender_consumer_indexed', handleInvalid='keep'),\n",
    "    StringIndexer(inputCol='merchant_category', outputCol='category_indexed', handleInvalid='keep'),\n",
    "    StringIndexer(inputCol='revenue_band', outputCol='revenue_band_indexed', handleInvalid='keep')\n",
    "]\n",
    "\n",
    "# OneHotEncoding indexed columns\n",
    "encoders = [\n",
    "    OneHotEncoder(inputCol='state_consumer_indexed', outputCol='state_consumer_encoded'),\n",
    "    OneHotEncoder(inputCol='gender_consumer_indexed', outputCol='gender_consumer_encoded'),\n",
    "    OneHotEncoder(inputCol='category_indexed', outputCol='category_encoded'),\n",
    "    OneHotEncoder(inputCol='revenue_band_indexed', outputCol='revenue_band_encoded')\n",
    "]\n",
    "\n",
    "feature_cols = [\n",
    "        'monthly_revenue', 'transaction_count', 'avg_fraud_probability_merchant', 'avg_unemployment_rate',\n",
    "        'state_consumer_encoded', 'gender_consumer_encoded', 'revenue_growth', 'category_encoded', 'revenue_band_encoded',\n",
    "        'avg_take_rate'\n",
    "    ]\n",
    "\n",
    "# VectorAssembler to combine numeric features into a single feature vector\n",
    "assembler = VectorAssembler(inputCols= feature_cols, outputCol='features')\n",
    "\n",
    "# Standardizing the numeric features\n",
    "scaler = StandardScaler(inputCol='features', outputCol='scaled_features')\n",
    "\n",
    "pipeline = Pipeline(stages=indexers + encoders + [assembler, scaler])\n",
    "\n",
    "# Fit the pipeline to the dataset\n",
    "model_pipeline = pipeline.fit(monthly_revenue_df)\n",
    "\n",
    "final_df = model_pipeline.transform(monthly_revenue_df)\n",
    "\n",
    "final_df.select('merchant_abn', 'order_month_year', 'scaled_features').show(5)\n"
   ]
  },
  {
   "cell_type": "markdown",
   "metadata": {},
   "source": [
    "### Training Model"
   ]
  },
  {
   "cell_type": "code",
   "execution_count": 37,
   "metadata": {},
   "outputs": [],
   "source": [
    "train_data, test_data = final_df.randomSplit([0.8, 0.2], seed=42)"
   ]
  },
  {
   "cell_type": "code",
   "execution_count": 38,
   "metadata": {},
   "outputs": [
    {
     "name": "stderr",
     "output_type": "stream",
     "text": [
      "24/09/27 16:20:00 WARN DAGScheduler: Broadcasting large task binary with size 1305.3 KiB\n",
      "24/09/27 16:20:00 WARN DAGScheduler: Broadcasting large task binary with size 2041.9 KiB\n",
      "24/09/27 16:20:01 WARN DAGScheduler: Broadcasting large task binary with size 3.1 MiB\n",
      "                                                                                \r"
     ]
    },
    {
     "name": "stdout",
     "output_type": "stream",
     "text": [
      "Root Mean Squared Error (RMSE): 56558.9879752173\n"
     ]
    },
    {
     "name": "stderr",
     "output_type": "stream",
     "text": [
      "                                                                                \r"
     ]
    },
    {
     "name": "stdout",
     "output_type": "stream",
     "text": [
      "R-squared: 0.6545326809765641\n"
     ]
    },
    {
     "name": "stderr",
     "output_type": "stream",
     "text": [
      "                                                                                \r"
     ]
    },
    {
     "name": "stdout",
     "output_type": "stream",
     "text": [
      "+------------+----------------+------------------+-------------------+------------------+\n",
      "|merchant_abn|order_month_year|   monthly_revenue|     revenue_growth|        prediction|\n",
      "+------------+----------------+------------------+-------------------+------------------+\n",
      "| 10023283211|          Dec-21| 66067.74432316715| 3.1795241652322175| 75095.19347743274|\n",
      "| 10023283211|          Jun-21|11078.327301762965|0.10239164872676397|10101.566131019317|\n",
      "| 10023283211|          May-21|11953.898144671877| 0.3170441527012353| 11165.50594378271|\n",
      "| 10187291046|          Aug-21|1059.7535269884397|  5.158034850430842| 2875.390723130639|\n",
      "| 10187291046|          Mar-21|  750.345554053667|  1.864485833032831| 2424.822578064285|\n",
      "+------------+----------------+------------------+-------------------+------------------+\n",
      "only showing top 5 rows\n",
      "\n"
     ]
    }
   ],
   "source": [
    "rf = RandomForestRegressor(featuresCol='scaled_features', labelCol='monthly_revenue', maxBins=32, maxDepth=10)\n",
    "rf_model = rf.fit(train_data)\n",
    "\n",
    "# Make predictions on the test data\n",
    "predictions = rf_model.transform(test_data)\n",
    "\n",
    "evaluator = RegressionEvaluator(labelCol='monthly_revenue', predictionCol='prediction', metricName='rmse')\n",
    "\n",
    "# Root Mean Squared Error (RMSE)\n",
    "rmse = evaluator.evaluate(predictions)\n",
    "print(f\"Root Mean Squared Error (RMSE): {rmse}\")\n",
    "\n",
    "# R-squared\n",
    "r2_evaluator = RegressionEvaluator(labelCol='monthly_revenue', predictionCol='prediction', metricName='r2')\n",
    "r2 = r2_evaluator.evaluate(predictions)\n",
    "print(f\"R-squared: {r2}\")\n",
    "\n",
    "predictions.select('merchant_abn', 'order_month_year', 'monthly_revenue', 'revenue_growth','prediction').show(5)"
   ]
  },
  {
   "cell_type": "markdown",
   "metadata": {},
   "source": [
    "## Predicting Future Monthly Revenue"
   ]
  },
  {
   "cell_type": "code",
   "execution_count": 39,
   "metadata": {},
   "outputs": [],
   "source": [
    "from pyspark.sql.types import DateType\n",
    "from dateutil.relativedelta import relativedelta\n",
    "from datetime import datetime\n",
    "\n",
    "# Step 1: Parse the order_month_year column to a proper date format\n",
    "monthly_revenue_df = monthly_revenue_df.withColumn(\n",
    "    'order_month_year_date', F.to_date(F.concat(F.lit('01-'), F.col('order_month_year')), 'dd-MMM-yy')\n",
    ")\n",
    "\n",
    "# Get the most recent month per merchant\n",
    "window_spec = Window.partitionBy('merchant_abn').orderBy(F.desc('order_month_year_date'))\n",
    "latest_merchant_data = monthly_revenue_df.withColumn('row_num', F.row_number().over(window_spec)) \\\n",
    "                                         .filter(F.col('row_num') == 1) \\\n",
    "                                         .drop('row_num')"
   ]
  },
  {
   "cell_type": "code",
   "execution_count": 40,
   "metadata": {},
   "outputs": [],
   "source": [
    "next_month = 'Aug-24'\n",
    "future_month_df = spark.createDataFrame([(next_month,)], ['future_order_month_year'])\n",
    "future_data = latest_merchant_data.crossJoin(future_month_df)"
   ]
  },
  {
   "cell_type": "code",
   "execution_count": 41,
   "metadata": {},
   "outputs": [
    {
     "name": "stderr",
     "output_type": "stream",
     "text": [
      "                                                                                \r"
     ]
    },
    {
     "name": "stdout",
     "output_type": "stream",
     "text": [
      "+------------+----------------+-----------------+-----------------+------------------------------+--------------------+-------------------+------------+--------------------+--------------+---------------+---------------------+----------------------+--------------------+---------------------+-----------------------+\n",
      "|merchant_abn|order_month_year|  monthly_revenue|transaction_count|avg_fraud_probability_merchant|       merchant_name|      avg_take_rate|revenue_band|   merchant_category|state_consumer|gender_consumer|avg_unemployment_rate|previous_month_revenue|      revenue_growth|order_month_year_date|future_order_month_year|\n",
      "+------------+----------------+-----------------+-----------------+------------------------------+--------------------+-------------------+------------+--------------------+--------------+---------------+---------------------+----------------------+--------------------+---------------------+-----------------------+\n",
      "| 10023283211|          Feb-22|48572.88260819351|              215|             56.06942278917232|       Felis Limited|0.18000000715255737|           e|furniture, home f...|           NSW|           Male|    71.28418544059576|     66067.74432316715|-0.26480186200089373|           2022-02-01|                 Aug-24|\n",
      "| 10142254217|          Feb-22| 8761.41669580623|              218|             56.29440748705243|Arcu Ac Orci Corp...|   4.21999979019165|           b|cable, satellite,...|           NSW|           Male|    76.60733880471746|     82.56213974011379|  105.11906042388328|           2022-02-01|                 Aug-24|\n",
      "| 10187291046|          Feb-22| 3165.48992443172|               26|             56.80884350094778|Ultricies Digniss...| 3.2899999618530273|           b|watch, clock, and...|           NSW|           Male|    88.99230626913217|     4296.839080341215| -0.2632980045926351|           2022-02-01|                 Aug-24|\n",
      "| 10192359162|          Feb-22|10514.66342879596|               23|             55.34575155431392| Enim Condimentum PC|  6.329999923706055|           a|music shops - mus...|           NSW|           Male|    84.08260801564093|    21759.649496232232| -0.5167815809433596|           2022-02-01|                 Aug-24|\n",
      "| 10206519221|          Feb-22|5828.400459934992|              145|             54.13255399137229|       Fusce Company|  6.340000152587891|           a|gift, card, novel...|           NSW|           Male|    71.57448196411133|    309.66984158167594|   17.82133704130094|           2022-02-01|                 Aug-24|\n",
      "+------------+----------------+-----------------+-----------------+------------------------------+--------------------+-------------------+------------+--------------------+--------------+---------------+---------------------+----------------------+--------------------+---------------------+-----------------------+\n",
      "only showing top 5 rows\n",
      "\n"
     ]
    }
   ],
   "source": [
    "future_data.show(5)"
   ]
  },
  {
   "cell_type": "code",
   "execution_count": 42,
   "metadata": {},
   "outputs": [
    {
     "name": "stderr",
     "output_type": "stream",
     "text": [
      "                                                                                \r"
     ]
    },
    {
     "name": "stdout",
     "output_type": "stream",
     "text": [
      "+------------+--------------------+--------------------+-----------------------+------------------+\n",
      "|merchant_abn|       merchant_name|   merchant_category|future_order_month_year| projected_revenue|\n",
      "+------------+--------------------+--------------------+-----------------------+------------------+\n",
      "| 10023283211|       Felis Limited|furniture, home f...|                 Aug-24| 50581.41502260568|\n",
      "| 10142254217|Arcu Ac Orci Corp...|cable, satellite,...|                 Aug-24|14023.518914681565|\n",
      "| 10187291046|Ultricies Digniss...|watch, clock, and...|                 Aug-24|3298.0685938763745|\n",
      "| 10192359162| Enim Condimentum PC|music shops - mus...|                 Aug-24| 9860.436724157378|\n",
      "| 10206519221|       Fusce Company|gift, card, novel...|                 Aug-24| 8051.103058647338|\n",
      "+------------+--------------------+--------------------+-----------------------+------------------+\n",
      "only showing top 5 rows\n",
      "\n"
     ]
    }
   ],
   "source": [
    "future_data = model_pipeline.transform(future_data)\n",
    "future_data = rf_model.transform(future_data)\n",
    "future_predictions = future_data.select('merchant_abn', 'merchant_name', 'merchant_category', 'future_order_month_year', 'prediction')\n",
    "future_predictions = future_predictions.withColumnRenamed('prediction', 'projected_revenue')\n",
    "future_predictions.show(5)"
   ]
  },
  {
   "cell_type": "code",
   "execution_count": 43,
   "metadata": {},
   "outputs": [
    {
     "name": "stderr",
     "output_type": "stream",
     "text": [
      "                                                                                \r"
     ]
    },
    {
     "name": "stdout",
     "output_type": "stream",
     "text": [
      "+------------+--------------------+--------------------+-----------------------+-----------------+\n",
      "|merchant_abn|       merchant_name|   merchant_category|future_order_month_year|projected_revenue|\n",
      "+------------+--------------------+--------------------+-----------------------+-----------------+\n",
      "| 76767266140|Phasellus At Limited|furniture, home f...|                 Aug-24|921700.2796325881|\n",
      "| 80518954462|Neque Sed Dictum ...|computers, comput...|                 Aug-24|876462.2718943937|\n",
      "| 60956456424|Ultricies Digniss...|gift, card, novel...|                 Aug-24|813112.2373186827|\n",
      "| 45629217853|    Lacus Consulting|gift, card, novel...|                 Aug-24|704868.5505036912|\n",
      "| 32361057556|Orci In Consequat...|gift, card, novel...|                 Aug-24|700808.0587679064|\n",
      "| 76626119831|Tristique Pellent...|antique shops - s...|                 Aug-24|663225.8601998105|\n",
      "| 86578477987|   Leo In Consulting|watch, clock, and...|                 Aug-24|656306.6086237922|\n",
      "| 79417999332|Phasellus At Company|gift, card, novel...|                 Aug-24|640867.2319917928|\n",
      "| 35909341340|Arcu Sed Eu Incor...|computer programm...|                 Aug-24|636760.9507019522|\n",
      "| 94493496784|Dictum Phasellus ...|gift, card, novel...|                 Aug-24| 624051.751764576|\n",
      "+------------+--------------------+--------------------+-----------------------+-----------------+\n",
      "only showing top 10 rows\n",
      "\n"
     ]
    }
   ],
   "source": [
    "RF_predictions = future_predictions.orderBy(F.col('projected_revenue').desc())\n",
    "\n",
    "# Show the top 10 merchants by predicted revenue\n",
    "RF_predictions.show(10)"
   ]
  },
  {
   "cell_type": "markdown",
   "metadata": {},
   "source": [
    "## Export Ranked Data"
   ]
  },
  {
   "cell_type": "code",
   "execution_count": 44,
   "metadata": {},
   "outputs": [
    {
     "name": "stderr",
     "output_type": "stream",
     "text": [
      "                                                                                \r"
     ]
    }
   ],
   "source": [
    "RF_predictions = RF_predictions.limit(100)\n",
    "RF_predictions.write.parquet('../data/curated/RF_ranking')"
   ]
  },
  {
   "cell_type": "markdown",
   "metadata": {},
   "source": [
    "## Evaluating Model"
   ]
  },
  {
   "cell_type": "code",
   "execution_count": 18,
   "metadata": {},
   "outputs": [],
   "source": [
    "importances = rf_model.featureImportances\n",
    "importance_values = importances.toArray()"
   ]
  },
  {
   "cell_type": "code",
   "execution_count": 19,
   "metadata": {},
   "outputs": [
    {
     "name": "stderr",
     "output_type": "stream",
     "text": [
      "                                                                                \r"
     ]
    },
    {
     "name": "stdout",
     "output_type": "stream",
     "text": [
      "Column: state_consumer - Number of Categories: 7\n",
      "Column: gender_consumer - Number of Categories: 3\n",
      "Column: merchant_category - Number of Categories: 124\n",
      "Column: revenue_band - Number of Categories: 5\n"
     ]
    }
   ],
   "source": [
    "# Fit the StringIndexer on your data\n",
    "indexers = [\n",
    "    StringIndexer(inputCol='state_consumer', outputCol='state_consumer_indexed', handleInvalid='keep'),\n",
    "    StringIndexer(inputCol='gender_consumer', outputCol='gender_consumer_indexed', handleInvalid='keep'),\n",
    "    StringIndexer(inputCol='merchant_category', outputCol='category_indexed', handleInvalid='keep'),\n",
    "    StringIndexer(inputCol='revenue_band', outputCol='revenue_band_indexed', handleInvalid='keep')\n",
    "]\n",
    "\n",
    "indexer_models = [indexer.fit(monthly_revenue_df) for indexer in indexers]\n",
    "\n",
    "# Get the actual number of categories for each categorical column\n",
    "for indexer_model in indexer_models:\n",
    "    print(f\"Column: {indexer_model.getInputCol()} - Number of Categories: {len(indexer_model.labels)}\")"
   ]
  },
  {
   "cell_type": "code",
   "execution_count": 22,
   "metadata": {},
   "outputs": [],
   "source": [
    "vec_assembler_stage = model_pipeline.stages[-2]\n",
    "encoded_feature_cols = vec_assembler_stage.getInputCols()\n",
    "\n",
    "onehot_encoded_sizes = {\n",
    "    'state_consumer_encoded': 7,  # Update with the actual number of categories\n",
    "    'gender_consumer_encoded': 3,  # Update with the actual number of categories\n",
    "    'category_encoded': 124,  # Update with actual number\n",
    "    'revenue_band_encoded':5  # Update with actual number\n",
    "}\n",
    "\n",
    "# Flatten the encoded features (e.g., one-hot encoded columns)\n",
    "expanded_feature_cols = []\n",
    "for col in encoded_feature_cols:\n",
    "    if col in onehot_encoded_sizes:\n",
    "        expanded_feature_cols.extend([f'{col}_{i}' for i in range(onehot_encoded_sizes[col])])\n",
    "    else:\n",
    "        expanded_feature_cols.append(col)"
   ]
  },
  {
   "cell_type": "code",
   "execution_count": 23,
   "metadata": {},
   "outputs": [],
   "source": [
    "feature_importance_df = pd.DataFrame({\n",
    "    'Feature': expanded_feature_cols,\n",
    "    'Importance': importance_values\n",
    "})\n",
    "\n",
    "feature_importance_df = feature_importance_df.sort_values(by='Importance', ascending=False)"
   ]
  },
  {
   "cell_type": "code",
   "execution_count": 24,
   "metadata": {},
   "outputs": [
    {
     "data": {
      "image/png": "[encoded data removed]",
      "text/plain": [
       "<Figure size 1000x600 with 1 Axes>"
      ]
     },
     "metadata": {},
     "output_type": "display_data"
    }
   ],
   "source": [
    "import matplotlib.pyplot as plt\n",
    "\n",
    "# Sort the features by importance and take the top 10\n",
    "top_10_features = feature_importance_df.sort_values(by='Importance', ascending=False).head(10)\n",
    "\n",
    "# Plot the top 10 features\n",
    "plt.figure(figsize=(10, 6))\n",
    "plt.barh(top_10_features['Feature'], top_10_features['Importance'], color='royalblue')\n",
    "plt.xlabel('Feature Importance')\n",
    "plt.title('Top 10 Random Forest Feature Importances')\n",
    "plt.gca().invert_yaxis()  # To have the highest importance on top\n",
    "plt.show()"
   ]
  },
  {
   "cell_type": "code",
   "execution_count": 25,
   "metadata": {},
   "outputs": [
    {
     "name": "stdout",
     "output_type": "stream",
     "text": [
      "Category for category_encoded_2: gift, card, novelty, and souvenir shops\n",
      "Category for category_encoded_6: florists supplies, nursery stock, and flowers\n",
      "Category for category_encoded_67: furniture, home furnishings and equipment shops, and manufacturers,  except appliances\n",
      "Category for revenue_band_encoded_1: b\n"
     ]
    }
   ],
   "source": [
    "# Explore which category is referred to in feature importance\n",
    "category_indexer_model = indexer_models[2]\n",
    "revenue_indexer_model = indexer_models[3]\n",
    "\n",
    "# Get the list of categories\n",
    "category_labels = category_indexer_model.labels\n",
    "revenue_labels = revenue_indexer_model.labels\n",
    "\n",
    "print(f\"Category for category_encoded_2: {category_labels[2]}\")\n",
    "print(f\"Category for category_encoded_6: {category_labels[6]}\")\n",
    "print(f\"Category for category_encoded_67: {category_labels[67]}\")\n",
    "print(f\"Category for revenue_band_encoded_1: {revenue_labels[1]}\")"
   ]
  },
  {
   "cell_type": "code",
   "execution_count": 27,
   "metadata": {},
   "outputs": [],
   "source": [
    "spark.stop()"
   ]
  }
 ],
 "metadata": {
  "kernelspec": {
   "display_name": "Python 3 (ipykernel)",
   "language": "python",
   "name": "python3"
  },
  "language_info": {
   "codemirror_mode": {
    "name": "ipython",
    "version": 3
   },
   "file_extension": ".py",
   "mimetype": "text/x-python",
   "name": "python",
   "nbconvert_exporter": "python",
   "pygments_lexer": "ipython3",
   "version": "3.11.5"
  }
 },
 "nbformat": 4,
 "nbformat_minor": 2
}

{
 "cells": [
  {
   "cell_type": "markdown",
   "metadata": {},
   "source": [
    "# Data Preprocessing Stage 2\n",
    "This notebook will handle aggregating external datasets."
   ]
  },
  {
   "cell_type": "code",
   "execution_count": 21,
   "metadata": {},
   "outputs": [],
   "source": [
    "# Initialise a spark session\n",
    "import pandas as pd\n",
    "from collections import Counter\n",
    "import os\n",
    "from pyspark.sql import SparkSession\n",
    "from pyspark.sql import functions as F\n",
    "\n",
    "\n",
    "spark = (\n",
    "    SparkSession.builder.appName(\"Data Processing 2\")\n",
    "    .config(\"spark.sql.repl.eagerEval.enabled\", True)\n",
    "    .config(\"spark.sql.parquet.cacheMetadata\", \"true\")\n",
    "    .config(\"spark.sql.session.timeZone\", \"Etc/UTC\")\n",
    "    .config(\"spark.driver.memory\", \"8g\")  # Increase driver memory\n",
    "    .config(\"spark.executor.memory\", \"8g\")  # Increase executor memory\n",
    "    .config(\"spark.executor.instances\", \"4\")  # Increase the number of executor instances\n",
    "    .config(\"spark.driver.maxResultSize\", \"2g\")\n",
    "    .config(\"spark.sql.shuffle.partitions\", \"200\") \\\n",
    "    .getOrCreate()\n",
    ")"
   ]
  },
  {
   "cell_type": "code",
   "execution_count": 22,
   "metadata": {},
   "outputs": [],
   "source": [
    "# Load Datasets\n",
    "transaction_data = spark.read.parquet('../data/curated/complete_data')\n",
    "postcode_to_sa4 = spark.read.csv('../data/external/POSTCODE_2011_TO_SA4.csv', header=True)\n",
    "unemployment_rate = spark.read.csv('../data/external/Unemployment_Rate_SA4.csv', header=True)"
   ]
  },
  {
   "cell_type": "code",
   "execution_count": 23,
   "metadata": {},
   "outputs": [
    {
     "name": "stdout",
     "output_type": "stream",
     "text": [
      "+--------------------+------+------+------+------+------+------+------+------+------+------+------+------+------+------+------+------+------+------+------+------+------+------+------+------+------+------+------+------+------+------+------+------+------+------+------+------+------+------+------+------+------+------+------+------+------+------+------+------+------+------+------+------+------+------+------+\n",
      "|                 SA4|Jul-24|Jun-24|May-24|Apr-24|Mar-24|Feb-24|Jan-24|Dec-23|Nov-23|Oct-23|Sep-23|Aug-23|Jul-23|Jun-23|May-23|Apr-23|Mar-23|Feb-23|Jan-23|Dec-22|Nov-22|Oct-22|Sep-22|Aug-22|Jul-22|Jun-22|May-22|Apr-22|Mar-22|Feb-22|Jan-22|Dec-21|Nov-21|Oct-21|Sep-21|Aug-21|Jul-21|Jun-21|May-21|Apr-21|Mar-21|Feb-21|Jan-21|Dec-20|Nov-20|Oct-20|Sep-20|Aug-20|Jul-20|Jun-20|May-20|Apr-20|Mar-20|Feb-20|Jan-20|\n",
      "+--------------------+------+------+------+------+------+------+------+------+------+------+------+------+------+------+------+------+------+------+------+------+------+------+------+------+------+------+------+------+------+------+------+------+------+------+------+------+------+------+------+------+------+------+------+------+------+------+------+------+------+------+------+------+------+------+------+\n",
      "|   102 Central Coast| 118.6| 119.5| 119.1| 120.5| 118.9| 119.5| 121.6| 117.1| 117.5| 118.9| 120.4| 119.3| 118.0| 118.5| 117.5| 118.5| 118.7| 117.1| 119.5| 115.4| 115.8| 117.8| 117.2| 117.9| 117.8| 116.0| 116.3| 118.0| 117.2| 117.5| 120.7| 118.2| 118.2| 125.2| 127.1| 124.7| 119.8| 115.5| 114.3| 117.3| 115.9| 114.6| 119.6| 115.5| 115.4| 118.2| 117.8| 118.6| 119.1| 121.4| 125.1| 122.5| 117.4| 117.3| 119.2|\n",
      "|115 Sydney - Baul...|  68.4|  69.0|  68.1|  69.1|  67.5|  67.4|  70.4|  66.2|  65.0|  67.1|  67.1|  66.4|  66.4|  65.1|  64.8|  65.5|  66.5|  63.5|  67.6|  63.0|  62.7|  64.0|  64.0|  64.6|  65.3|  62.8|  61.4|  63.4|  63.4|  63.1|  66.3|  62.8|  65.1|  70.2|  70.7|  70.2|  65.0|  63.1|  61.5|  63.5|  62.7|  62.2|  65.2|  61.9|  63.8|  63.7|  63.7|  64.8|  65.0|  66.8|  70.1|  66.9|  60.8|  61.1|  62.8|\n",
      "|116 Sydney - Blac...|  96.3| 101.2|  98.5|  99.8| 100.7|  98.0| 102.5|  95.8|  96.2|  99.1|  99.3|  97.8|  97.5|  96.8|  97.2|  97.7|  97.9|  94.0|  99.3|  92.2|  93.0|  95.3|  96.0|  95.7|  95.9|  92.4|  91.5|  95.8|  94.4|  91.9|  98.6|  94.0|  96.1| 103.3| 105.0| 104.8|  93.2|  89.2|  88.9|  90.7|  87.6|  88.3|  92.8|  87.4|  91.2|  91.7|  91.2|  91.1|  93.3|  95.2| 100.0|  96.1|  88.9|  89.0|  90.5|\n",
      "|117 Sydney - City...|  80.9|  82.7|  81.2|  82.0|  82.0|  81.5|  84.3|  78.7|  78.4|  79.7|  81.9|  80.2|  80.1|  79.8|  78.7|  80.1|  80.5|  78.7|  82.1|  75.6|  76.4|  78.0|  77.3|  79.8|  71.9|  74.0|  74.7|  77.5|  76.5|  77.8|  82.2|  76.8|  79.9|  88.5|  89.7|  89.1|  80.7|  75.3|  75.7|  78.3|  76.9|  77.9|  83.2|  79.1|  80.2|  82.1|  83.6|  84.9|  85.9|  89.3|  96.5|  91.9|  81.9|  81.6|  84.4|\n",
      "|118 Sydney - East...|  64.8|  63.9|  64.2|  64.8|  65.2|  64.4|  67.3|  62.3|  62.0|  63.4|  64.0|  63.5|  64.4|  62.4|  61.8|  63.7|  63.5|  61.6|  65.5|  60.9|  61.3|  62.3|  62.7|  63.1|  64.4|  64.1|  63.6|  65.7|  65.7|  65.7|  69.6|  66.2|  68.5|  73.8|  74.1|  73.8|  69.1|  64.7|  64.2|  66.3|  65.6|  65.9|  70.5|  67.6|  68.6|  70.2|  70.9|  72.2|  73.0|  75.2|  79.5|  75.7|  69.1|  68.1|  70.8|\n",
      "+--------------------+------+------+------+------+------+------+------+------+------+------+------+------+------+------+------+------+------+------+------+------+------+------+------+------+------+------+------+------+------+------+------+------+------+------+------+------+------+------+------+------+------+------+------+------+------+------+------+------+------+------+------+------+------+------+------+\n",
      "only showing top 5 rows\n",
      "\n"
     ]
    }
   ],
   "source": [
    "unemployment_rate.show(5)"
   ]
  },
  {
   "cell_type": "markdown",
   "metadata": {},
   "source": [
    "### Reformatting Unemployment Data\n",
    "Split the SA4 Code and the SA4 area name."
   ]
  },
  {
   "cell_type": "code",
   "execution_count": 24,
   "metadata": {},
   "outputs": [
    {
     "name": "stdout",
     "output_type": "stream",
     "text": [
      "+--------+--------------------+\n",
      "|SA4_code|            SA4_name|\n",
      "+--------+--------------------+\n",
      "|     102|       Central Coast|\n",
      "|     115|Sydney - Baulkham...|\n",
      "|     116|  Sydney - Blacktown|\n",
      "|     117|Sydney - City and...|\n",
      "|     118|Sydney - Eastern ...|\n",
      "+--------+--------------------+\n",
      "only showing top 5 rows\n",
      "\n"
     ]
    }
   ],
   "source": [
    "unemployment_rate = unemployment_rate.withColumn(\n",
    "    \"SA4_code\", F.regexp_extract(F.col(\"SA4\"), r\"^\\d+\", 0)  # Extract the numeric part (SA4 code)\n",
    ").withColumn(\n",
    "    \"SA4_name\", F.regexp_replace(F.col(\"SA4\"), r\"^\\d+\\s*\", \"\")  # Extract the remaining string (SA4 name)\n",
    ")\n",
    "\n",
    "unemployment_rate = unemployment_rate.drop('SA4')\n",
    "\n",
    "# Show the result with the new columns\n",
    "unemployment_rate.select(\"SA4_code\", \"SA4_name\").show(5)\n"
   ]
  },
  {
   "cell_type": "code",
   "execution_count": 25,
   "metadata": {},
   "outputs": [
    {
     "name": "stdout",
     "output_type": "stream",
     "text": [
      "+--------+-------------+----------+-----------------+\n",
      "|SA4_code|     SA4_name|month_year|unemployment_rate|\n",
      "+--------+-------------+----------+-----------------+\n",
      "|     102|Central Coast|    May-24|            119.1|\n",
      "|     102|Central Coast|    Apr-24|            120.5|\n",
      "|     102|Central Coast|    Mar-24|            118.9|\n",
      "|     102|Central Coast|    Feb-24|            119.5|\n",
      "|     102|Central Coast|    Jan-24|            121.6|\n",
      "+--------+-------------+----------+-----------------+\n",
      "only showing top 5 rows\n",
      "\n"
     ]
    }
   ],
   "source": [
    "# List of month-year columns in unemployment_rate\n",
    "month_year_columns = unemployment_rate.columns[2:]  # Exclude SA4 code and SA4 name columns\n",
    "\n",
    "# Create a stack expression for unpivoting the unemployment_rate DataFrame\n",
    "stack_expr = F.expr(f\"stack({len(month_year_columns)}, \" + \n",
    "                    \", \".join([f\"'{col}', `{col}`\" for col in month_year_columns]) + \n",
    "                    \") as (month_year, unemployment_rate)\")\n",
    "\n",
    "# Unpivot the unemployment_rate DataFrame\n",
    "unemployment_rate = unemployment_rate.select(\n",
    "    \"SA4_code\",\n",
    "    \"SA4_name\",\n",
    "    stack_expr\n",
    ")\n",
    "\n",
    "# Show the reshaped DataFrame\n",
    "unemployment_rate.show(5)\n"
   ]
  },
  {
   "cell_type": "markdown",
   "metadata": {},
   "source": [
    "### Reformatting Datetime Format\n",
    "To match the external dataset format, the order datetime will be converted to MMM-YY format."
   ]
  },
  {
   "cell_type": "code",
   "execution_count": 26,
   "metadata": {},
   "outputs": [
    {
     "name": "stdout",
     "output_type": "stream",
     "text": [
      "+--------------+----------------+\n",
      "|order_datetime|order_month_year|\n",
      "+--------------+----------------+\n",
      "|    2021-09-20|          Sep-21|\n",
      "|    2021-09-20|          Sep-21|\n",
      "|    2021-09-20|          Sep-21|\n",
      "|    2021-09-20|          Sep-21|\n",
      "|    2021-09-20|          Sep-21|\n",
      "+--------------+----------------+\n",
      "only showing top 5 rows\n",
      "\n"
     ]
    }
   ],
   "source": [
    "# Convert the order_datetime column to the MMM-YY format\n",
    "transaction_data = transaction_data.withColumn(\n",
    "    \"order_month_year\", F.date_format(F.col(\"order_datetime\"), \"MMM-yy\")\n",
    ")\n",
    "\n",
    "# Show the result\n",
    "transaction_data.select(\"order_datetime\", \"order_month_year\").show(5)"
   ]
  },
  {
   "cell_type": "markdown",
   "metadata": {},
   "source": [
    "## Aggregating Dataset"
   ]
  },
  {
   "cell_type": "code",
   "execution_count": 27,
   "metadata": {},
   "outputs": [
    {
     "name": "stdout",
     "output_type": "stream",
     "text": [
      "root\n",
      " |-- POSTCODE: string (nullable = true)\n",
      " |-- SA4_CODE_2011: string (nullable = true)\n",
      " |-- SA4_NAME_2011: string (nullable = true)\n",
      "\n"
     ]
    }
   ],
   "source": [
    "postcode_to_sa4.printSchema()"
   ]
  },
  {
   "cell_type": "code",
   "execution_count": 28,
   "metadata": {},
   "outputs": [
    {
     "name": "stdout",
     "output_type": "stream",
     "text": [
      "+-------+------------+------------------+--------------------+-----------+--------------------------+-------------+-----------------+--------------+-----------------+---------------+--------------------+--------------------+--------------------------+--------------+----------------+-------------+-------------+\n",
      "|user_id|merchant_abn|      dollar_value|            order_id|consumer_id|fraud_probability_consumer|name_consumer| address_consumer|state_consumer|postcode_consumer|gender_consumer|       name_merchant|                tags|fraud_probability_merchant|order_datetime|order_month_year|SA4_CODE_2011|SA4_NAME_2011|\n",
      "+-------+------------+------------------+--------------------+-----------+--------------------------+-------------+-----------------+--------------+-----------------+---------------+--------------------+--------------------+--------------------------+--------------+----------------+-------------+-------------+\n",
      "|     20| 83679168109|215.64397454304893|000c4b07-b771-468...|    1390367|         9.032296778960283| James Norris|790 Ramos Landing|           VIC|             3234|    Undisclosed|     Quis Lectus Ltd|[(watch, clock, a...|        31.232127762334148|    2021-09-20|          Sep-21|         NULL|         NULL|\n",
      "|     20| 89726005175|18.943516480173162|002e8886-0b37-48f...|    1390367|         9.032296778960283| James Norris|790 Ramos Landing|           VIC|             3234|    Undisclosed| Est Nunc Consulting|((tent and awning...|        31.445685692245938|    2021-09-20|          Sep-21|         NULL|         NULL|\n",
      "|     20| 28748147493|39.844190839382655|00ccd018-8bf3-4ca...|    1390367|         9.032296778960283| James Norris|790 Ramos Landing|           VIC|             3234|    Undisclosed|     Neque Institute|[[gift, caRd, nov...|        29.297697991908603|    2021-09-20|          Sep-21|         NULL|         NULL|\n",
      "|     20| 63290521567|14.574181792045115|0118754b-ec31-406...|    1390367|         9.032296778960283| James Norris|790 Ramos Landing|           VIC|             3234|    Undisclosed|Vehicula Pellente...|((artist supply a...|        29.297697991908603|    2021-09-20|          Sep-21|         NULL|         NULL|\n",
      "|     20| 80518954462|109.45773918341249|0217d9fa-e7cc-4d5...|    1390367|         9.032296778960283| James Norris|790 Ramos Landing|           VIC|             3234|    Undisclosed|Neque Sed Dictum ...|((computers, comp...|        30.024291830924508|    2021-09-20|          Sep-21|         NULL|         NULL|\n",
      "+-------+------------+------------------+--------------------+-----------+--------------------------+-------------+-----------------+--------------+-----------------+---------------+--------------------+--------------------+--------------------------+--------------+----------------+-------------+-------------+\n",
      "only showing top 5 rows\n",
      "\n"
     ]
    }
   ],
   "source": [
    "# Join transaction data and sa4 converter by postcode\n",
    "merged_external = transaction_data.join(postcode_to_sa4, transaction_data[\"postcode_consumer\"] == postcode_to_sa4[\"POSTCODE\"], \"left\")\n",
    "merged_external = merged_external.drop(\"POSTCODE\")\n",
    "\n",
    "# Show the result\n",
    "merged_external.show(5)"
   ]
  },
  {
   "cell_type": "code",
   "execution_count": 29,
   "metadata": {},
   "outputs": [
    {
     "name": "stdout",
     "output_type": "stream",
     "text": [
      "root\n",
      " |-- user_id: long (nullable = true)\n",
      " |-- merchant_abn: long (nullable = true)\n",
      " |-- dollar_value: double (nullable = true)\n",
      " |-- order_id: string (nullable = true)\n",
      " |-- consumer_id: long (nullable = true)\n",
      " |-- fraud_probability_consumer: double (nullable = true)\n",
      " |-- name_consumer: string (nullable = true)\n",
      " |-- address_consumer: string (nullable = true)\n",
      " |-- state_consumer: string (nullable = true)\n",
      " |-- postcode_consumer: integer (nullable = true)\n",
      " |-- gender_consumer: string (nullable = true)\n",
      " |-- name_merchant: string (nullable = true)\n",
      " |-- tags: string (nullable = true)\n",
      " |-- fraud_probability_merchant: double (nullable = true)\n",
      " |-- order_datetime: date (nullable = true)\n",
      " |-- order_month_year: string (nullable = true)\n",
      " |-- SA4_CODE_2011: string (nullable = true)\n",
      " |-- SA4_NAME_2011: string (nullable = true)\n",
      "\n"
     ]
    }
   ],
   "source": [
    "merged_external.printSchema()"
   ]
  },
  {
   "cell_type": "code",
   "execution_count": 30,
   "metadata": {},
   "outputs": [],
   "source": [
    "# Join merged data with sa4 unemployment rate by sa4 code\n",
    "merged_external = merged_external.join(unemployment_rate, (merged_external[\"SA4_CODE_2011\"] == unemployment_rate[\"SA4_code\"]) \n",
    "                                       & (merged_external[\"order_month_year\"] == unemployment_rate[\"month_year\"]), \"left\")\n",
    "\n",
    "merged_external = merged_external.drop(\"SA4_code\")\n",
    "merged_external = merged_external.drop(\"SA4_name\")\n",
    "merged_external = merged_external.drop(\"month_year\")"
   ]
  },
  {
   "cell_type": "code",
   "execution_count": 31,
   "metadata": {},
   "outputs": [
    {
     "name": "stdout",
     "output_type": "stream",
     "text": [
      "+-------+------------+------------------+--------------------+-----------+--------------------------+-------------+-----------------+--------------+-----------------+---------------+--------------------+--------------------+--------------------------+--------------+----------------+-------------+-------------+-----------------+\n",
      "|user_id|merchant_abn|      dollar_value|            order_id|consumer_id|fraud_probability_consumer|name_consumer| address_consumer|state_consumer|postcode_consumer|gender_consumer|       name_merchant|                tags|fraud_probability_merchant|order_datetime|order_month_year|SA4_CODE_2011|SA4_NAME_2011|unemployment_rate|\n",
      "+-------+------------+------------------+--------------------+-----------+--------------------------+-------------+-----------------+--------------+-----------------+---------------+--------------------+--------------------+--------------------------+--------------+----------------+-------------+-------------+-----------------+\n",
      "|     20| 83679168109|215.64397454304893|000c4b07-b771-468...|    1390367|         9.032296778960283| James Norris|790 Ramos Landing|           VIC|             3234|    Undisclosed|     Quis Lectus Ltd|[(watch, clock, a...|        31.232127762334148|    2021-09-20|          Sep-21|         NULL|         NULL|             NULL|\n",
      "|     20| 89726005175|18.943516480173162|002e8886-0b37-48f...|    1390367|         9.032296778960283| James Norris|790 Ramos Landing|           VIC|             3234|    Undisclosed| Est Nunc Consulting|((tent and awning...|        31.445685692245938|    2021-09-20|          Sep-21|         NULL|         NULL|             NULL|\n",
      "|     20| 28748147493|39.844190839382655|00ccd018-8bf3-4ca...|    1390367|         9.032296778960283| James Norris|790 Ramos Landing|           VIC|             3234|    Undisclosed|     Neque Institute|[[gift, caRd, nov...|        29.297697991908603|    2021-09-20|          Sep-21|         NULL|         NULL|             NULL|\n",
      "|     20| 63290521567|14.574181792045115|0118754b-ec31-406...|    1390367|         9.032296778960283| James Norris|790 Ramos Landing|           VIC|             3234|    Undisclosed|Vehicula Pellente...|((artist supply a...|        29.297697991908603|    2021-09-20|          Sep-21|         NULL|         NULL|             NULL|\n",
      "|     20| 80518954462|109.45773918341249|0217d9fa-e7cc-4d5...|    1390367|         9.032296778960283| James Norris|790 Ramos Landing|           VIC|             3234|    Undisclosed|Neque Sed Dictum ...|((computers, comp...|        30.024291830924508|    2021-09-20|          Sep-21|         NULL|         NULL|             NULL|\n",
      "+-------+------------+------------------+--------------------+-----------+--------------------------+-------------+-----------------+--------------+-----------------+---------------+--------------------+--------------------+--------------------------+--------------+----------------+-------------+-------------+-----------------+\n",
      "only showing top 5 rows\n",
      "\n"
     ]
    }
   ],
   "source": [
    "merged_external.show(5)"
   ]
  },
  {
   "cell_type": "markdown",
   "metadata": {},
   "source": [
    "## Checking for Null Values"
   ]
  },
  {
   "cell_type": "code",
   "execution_count": 32,
   "metadata": {},
   "outputs": [
    {
     "name": "stdout",
     "output_type": "stream",
     "text": [
      "Number of null values in the 'SA4_CODE_2011' column: 2281553\n"
     ]
    }
   ],
   "source": [
    "from pyspark.sql.functions import col \n",
    "\n",
    "null_sa4_code = merged_external.filter(col(\"SA4_CODE_2011\").isNull()).count()\n",
    "print(f\"Number of null values in the 'SA4_CODE_2011' column: {null_sa4_code}\")"
   ]
  },
  {
   "cell_type": "markdown",
   "metadata": {},
   "source": [
    "Some of the postcodes are not available in the existing SA4 code database, so for these cases, the unemployment rate will be imputed by median imputation of the median unemployment rate during the corresponding order month year."
   ]
  },
  {
   "cell_type": "code",
   "execution_count": 34,
   "metadata": {},
   "outputs": [
    {
     "name": "stdout",
     "output_type": "stream",
     "text": [
      "+-------+------------+------------------+--------------------+-----------+--------------------------+--------------+--------------------+--------------+-----------------+---------------+--------------------+--------------------+--------------------------+--------------+----------------+-------------+--------------------+-----------------+\n",
      "|user_id|merchant_abn|      dollar_value|            order_id|consumer_id|fraud_probability_consumer| name_consumer|    address_consumer|state_consumer|postcode_consumer|gender_consumer|       name_merchant|                tags|fraud_probability_merchant|order_datetime|order_month_year|SA4_CODE_2011|       SA4_NAME_2011|unemployment_rate|\n",
      "+-------+------------+------------------+--------------------+-----------+--------------------------+--------------+--------------------+--------------+-----------------+---------------+--------------------+--------------------+--------------------------+--------------+----------------+-------------+--------------------+-----------------+\n",
      "|     70| 89726005175|27.566913310259512|009a7321-b3d4-4dc...|     195331|        13.287705494201015|Erin Dominguez|11180 Henderson C...|           VIC|             3770|         Female| Est Nunc Consulting|((tent and awning...|        31.493071248539998|    2021-11-20|          Nov-21|          211|Melbourne - Outer...|            142.8|\n",
      "|     70| 22155114860|143.82485715750397|0176a5e9-81f0-4a2...|     195331|        13.321340861969613|Erin Dominguez|11180 Henderson C...|           VIC|             3770|         Female|Suscipit Nonummy ...|((computers, comp...|         34.34244566911285|    2021-11-20|          Nov-21|          211|Melbourne - Outer...|            142.8|\n",
      "|     70| 63685007785| 46.70178471289758|0302818c-35ef-480...|     195331|        13.287705494201015|Erin Dominguez|11180 Henderson C...|           VIC|             3770|         Female|Augue Eu Tempor A...|((cable, satellit...|        29.306412949978522|    2021-11-20|          Nov-21|          211|Melbourne - Outer...|            142.8|\n",
      "|     70| 74589998324| 641.0004588232699|032351ca-981d-407...|     195331|        13.285323761002122|Erin Dominguez|11180 Henderson C...|           VIC|             3770|         Female|            Nec Inc.|((stationery, off...|         29.32622940803223|    2021-11-20|          Nov-21|          211|Melbourne - Outer...|            142.8|\n",
      "|     70| 19933438190| 7.374398401693737|03bb0270-61d9-44c...|     195331|        13.411031829057176|Erin Dominguez|11180 Henderson C...|           VIC|             3770|         Female| Dui Nec Corporation|[[tent and awning...|        29.181393411227997|    2021-11-20|          Nov-21|          211|Melbourne - Outer...|            142.8|\n",
      "+-------+------------+------------------+--------------------+-----------+--------------------------+--------------+--------------------+--------------+-----------------+---------------+--------------------+--------------------+--------------------------+--------------+----------------+-------------+--------------------+-----------------+\n",
      "only showing top 5 rows\n",
      "\n"
     ]
    }
   ],
   "source": [
    "#  Identify rows with missing SA4 codes or unemployment rates\n",
    "missing_unemployment_df = merged_external.filter(F.col(\"unemployment_rate\").isNull())\n",
    "\n",
    "# Calculate the median unemployment rate for each month_year\n",
    "median_unemployment_by_month = unemployment_rate.groupBy(\"month_year\").agg(\n",
    "    F.expr(\"percentile_approx(unemployment_rate, 0.5)\").alias(\"median_unemployment_rate\")\n",
    ")\n",
    "\n",
    "# Join the missing unemployment rows with the median unemployment rate based on month_year\n",
    "missing_imputed_df = missing_unemployment_df.join(\n",
    "    median_unemployment_by_month, \n",
    "    missing_unemployment_df[\"order_month_year\"] == median_unemployment_by_month[\"month_year\"], \n",
    "    how=\"left\"\n",
    ").withColumn(\n",
    "    \"unemployment_rate\", F.coalesce(F.col(\"unemployment_rate\"), F.col(\"median_unemployment_rate\"))\n",
    ").drop(\"median_unemployment_rate\", \"month_year\")\n",
    "\n",
    "# Merge the imputed rows back into the main DataFrame\n",
    "# Keep rows where unemployment_rate is not null, and union with the imputed DataFrame\n",
    "imputed_data = merged_external.filter(F.col(\"unemployment_rate\").isNotNull()).union(missing_imputed_df)\n",
    "\n",
    "# Show the result\n",
    "imputed_data.show(5)\n"
   ]
  },
  {
   "cell_type": "code",
   "execution_count": 38,
   "metadata": {},
   "outputs": [
    {
     "name": "stderr",
     "output_type": "stream",
     "text": [
      "[Stage 126:>                                                        (0 + 8) / 9]\r"
     ]
    },
    {
     "name": "stdout",
     "output_type": "stream",
     "text": [
      "Number of null values in the 'unemployment_rate' column: 0\n"
     ]
    },
    {
     "name": "stderr",
     "output_type": "stream",
     "text": [
      "                                                                                \r"
     ]
    }
   ],
   "source": [
    "null_unemp = imputed_data.filter(col(\"unemployment_rate\").isNull()).count()\n",
    "print(f\"Number of null values in the 'unemployment_rate' column: {null_unemp}\")"
   ]
  },
  {
   "cell_type": "code",
   "execution_count": 41,
   "metadata": {},
   "outputs": [],
   "source": [
    "from pyspark.sql.functions import lit\n",
    "\n",
    "# Group null SA4_code into a category like 'Unregistered Area'\n",
    "imputed_data = imputed_data.withColumn(\n",
    "    \"SA4_CODE_2011\", F.coalesce(F.col(\"SA4_CODE_2011\"), lit(\"Unregistered\"))\n",
    ").withColumn(\n",
    "    \"SA4_NAME_2011\", F.coalesce(F.col(\"SA4_NAME_2011\"), lit(\"Unregistered Area\"))\n",
    ")"
   ]
  },
  {
   "cell_type": "markdown",
   "metadata": {},
   "source": [
    "## Analyzing Outliers in Dollar Value"
   ]
  },
  {
   "cell_type": "code",
   "execution_count": 57,
   "metadata": {},
   "outputs": [
    {
     "name": "stderr",
     "output_type": "stream",
     "text": [
      "                                                                                \r"
     ]
    }
   ],
   "source": [
    "import matplotlib.pyplot as plt\n",
    "import pandas as pd\n",
    "from pyspark.sql.functions import mean, stddev, col, abs\n",
    "\n",
    "# Step 1: Calculate Z-Score for the entire dataset (imputed_data)\n",
    "column = \"dollar_value\"\n",
    "\n",
    "# Calculate the mean and standard deviation on the entire dataset\n",
    "stats = imputed_data.select(mean(col(column)).alias('mean'), stddev(col(column)).alias('stddev')).collect()\n",
    "mean_value = stats[0]['mean']\n",
    "stddev_value = stats[0]['stddev']\n",
    "\n",
    "# Add Z-Score column to the entire dataset for outlier detection\n",
    "imputed_data = imputed_data.withColumn(\n",
    "    \"z_score\", (col(column) - mean_value) / stddev_value\n",
    ")\n",
    "\n",
    "# Take a sample for plotting\n",
    "sample_fraction = 0.2\n",
    "sampled_data = imputed_data.sample(withReplacement=False, fraction=sample_fraction, seed=42)\n",
    "\n",
    "# Convert the sampled data to Pandas for initial plotting\n",
    "df_pandas_before = sampled_data.select(\"dollar_value\").toPandas()\n",
    "\n",
    "# Filter out the outliers from the sample and from the whole dataset\n",
    "df_without_outliers = sampled_data.filter(abs(col(\"z_score\")) <= 3).select(\"dollar_value\").toPandas()\n",
    "filter_outliers = imputed_data.filter(abs(col(\"z_score\")) <= 3)"
   ]
  },
  {
   "cell_type": "code",
   "execution_count": 58,
   "metadata": {},
   "outputs": [
    {
     "data": {
      "image/png": "[encoded data removed]",
      "text/plain": [
       "<Figure size 1200x600 with 2 Axes>"
      ]
     },
     "metadata": {},
     "output_type": "display_data"
    }
   ],
   "source": [
    "plt.figure(figsize=(12, 6))\n",
    "\n",
    "# Before filtering outliers (using the sample)\n",
    "plt.subplot(1, 2, 1)\n",
    "plt.hist(df_pandas_before['dollar_value'], bins=30, color='blue', alpha=0.7)\n",
    "plt.title('Before Filtering Outliers (Sampled Data)')\n",
    "plt.xlabel('Dollar Value')\n",
    "plt.ylabel('Frequency')\n",
    "\n",
    "# After filtering outliers (using the sample)\n",
    "plt.subplot(1, 2, 2)\n",
    "plt.hist(df_without_outliers['dollar_value'], bins=30, color='green', alpha=0.7)\n",
    "plt.title('After Filtering Outliers (Sampled Data)')\n",
    "plt.xlabel('Dollar Value')\n",
    "plt.ylabel('Frequency')\n",
    "\n",
    "# Show the plots\n",
    "plt.tight_layout()\n",
    "plt.show()\n"
   ]
  },
  {
   "cell_type": "markdown",
   "metadata": {},
   "source": [
    "## Export Data to Parquet"
   ]
  },
  {
   "cell_type": "code",
   "execution_count": 60,
   "metadata": {},
   "outputs": [
    {
     "name": "stderr",
     "output_type": "stream",
     "text": [
      "                                                                                \r"
     ]
    }
   ],
   "source": [
    "#filter_outliers.write.parquet(\"../data/curated/aggregated_data\")"
   ]
  }
 ],
 "metadata": {
  "kernelspec": {
   "display_name": "base",
   "language": "python",
   "name": "python3"
  },
  "language_info": {
   "codemirror_mode": {
    "name": "ipython",
    "version": 3
   },
   "file_extension": ".py",
   "mimetype": "text/x-python",
   "name": "python",
   "nbconvert_exporter": "python",
   "pygments_lexer": "ipython3",
   "version": "3.11.5"
  }
 },
 "nbformat": 4,
 "nbformat_minor": 2
}

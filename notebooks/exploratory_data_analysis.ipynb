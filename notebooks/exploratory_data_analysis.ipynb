{
 "cells": [
  {
   "cell_type": "markdown",
   "metadata": {},
   "source": [
    "# Exploratory Data Analysis"
   ]
  },
  {
   "cell_type": "code",
   "execution_count": 2,
   "metadata": {},
   "outputs": [],
   "source": [
    "# Initialise a spark session\n",
    "import pandas as pd\n",
    "from collections import Counter\n",
    "import os\n",
    "from pyspark.sql import SparkSession\n",
    "from pyspark.sql.window import Window\n",
    "from pyspark.sql import functions as F\n",
    "import geopandas as gpd\n",
    "import folium\n",
    "\n",
    "\n",
    "spark = (\n",
    "    SparkSession.builder.appName(\"EDA\")\n",
    "    .config(\"spark.sql.repl.eagerEval.enabled\", True)\n",
    "    .config(\"spark.sql.parquet.cacheMetadata\", \"true\")\n",
    "    .config(\"spark.sql.session.timeZone\", \"Etc/UTC\")\n",
    "    .config(\"spark.driver.memory\", \"16g\")  # Increase driver memory\n",
    "    .config(\"spark.executor.memory\", \"16g\")  # Increase executor memory\n",
    "    .config(\"spark.executor.instances\", \"4\")  # Increase the number of executor instances\n",
    "    .config(\"spark.driver.maxResultSize\", \"2g\")\n",
    "    .config(\"spark.sql.shuffle.partitions\", \"200\") \\\n",
    "    .getOrCreate()\n",
    ")"
   ]
  },
  {
   "cell_type": "code",
   "execution_count": 4,
   "metadata": {},
   "outputs": [],
   "source": [
    "# Read Files\n",
    "transactions = spark.read.parquet('../data/curated/flagged_fraud')\n",
    "sa4_shapefile_path = '../data/external/SA4_2021_AUST_GDA2020.shp'\n",
    "sa4_shapefile = gpd.read_file(sa4_shapefile_path)"
   ]
  },
  {
   "cell_type": "code",
   "execution_count": 5,
   "metadata": {},
   "outputs": [
    {
     "name": "stdout",
     "output_type": "stream",
     "text": [
      "root\n",
      " |-- merchant_abn: long (nullable = true)\n",
      " |-- year_week: string (nullable = true)\n",
      " |-- user_id: long (nullable = true)\n",
      " |-- dollar_value: double (nullable = true)\n",
      " |-- order_id: string (nullable = true)\n",
      " |-- consumer_id: long (nullable = true)\n",
      " |-- fraud_probability_consumer: double (nullable = true)\n",
      " |-- name_consumer: string (nullable = true)\n",
      " |-- address_consumer: string (nullable = true)\n",
      " |-- state_consumer: string (nullable = true)\n",
      " |-- postcode_consumer: integer (nullable = true)\n",
      " |-- gender_consumer: string (nullable = true)\n",
      " |-- name_merchant: string (nullable = true)\n",
      " |-- fraud_probability_merchant: double (nullable = true)\n",
      " |-- order_datetime: date (nullable = true)\n",
      " |-- order_month_year: string (nullable = true)\n",
      " |-- SA4_CODE_2011: string (nullable = true)\n",
      " |-- SA4_NAME_2011: string (nullable = true)\n",
      " |-- unemployment_rate: string (nullable = true)\n",
      " |-- consumer_weekly_transaction: long (nullable = true)\n",
      " |-- merchant_weekly_transaction: long (nullable = true)\n",
      " |-- is_fraud: boolean (nullable = true)\n",
      " |-- revenue_band: string (nullable = true)\n",
      " |-- take_rate: double (nullable = true)\n",
      " |-- merchant_category: string (nullable = true)\n",
      "\n"
     ]
    }
   ],
   "source": [
    "transactions.printSchema()"
   ]
  },
  {
   "cell_type": "markdown",
   "metadata": {},
   "source": [
    "## Aggregating Dataset by SA4 Code"
   ]
  },
  {
   "cell_type": "code",
   "execution_count": 9,
   "metadata": {},
   "outputs": [
    {
     "name": "stderr",
     "output_type": "stream",
     "text": [
      "                                                                                \r"
     ]
    }
   ],
   "source": [
    "# Filter out rows where SA4 code is 'Unregistered'\n",
    "filtered_transactions = transactions.filter(transactions['SA4_CODE_2011'] != 'Unregistered')\n",
    "\n",
    "# Group by 'SA4_CODE_2011' and aggregate data\n",
    "sa4_grouped_df = filtered_transactions.groupBy('SA4_CODE_2011').agg(\n",
    "    F.count('order_id').alias('total_transactions'),\n",
    "    F.countDistinct('user_id').alias('total_customers'),\n",
    "    F.sum(F.when(F.col('is_fraud') == True, 1).otherwise(0)).alias('fraudulent_transactions'),\n",
    "    F.avg('dollar_value').alias('avg_order_value'),\n",
    "    F.mode('merchant_category').alias('popular_merchant_category')\n",
    ")\n",
    "\n",
    "sa4_grouped_df = sa4_grouped_df.toPandas()"
   ]
  },
  {
   "cell_type": "markdown",
   "metadata": {},
   "source": [
    "## Generate Maps"
   ]
  },
  {
   "cell_type": "code",
   "execution_count": 10,
   "metadata": {},
   "outputs": [
    {
     "name": "stderr",
     "output_type": "stream",
     "text": [
      "/var/folders/nb/ptvngvk147s5wfkvdykjdlvm0000gn/T/ipykernel_8551/2719006247.py:10: DeprecationWarning: The 'unary_union' attribute is deprecated, use the 'union_all()' method instead.\n",
      "  center = merged_sa4.geometry.centroid.unary_union.centroid\n"
     ]
    }
   ],
   "source": [
    "# Merge shapefile with transactions data on SA4 code\n",
    "merged_sa4 = sa4_shapefile.merge(sa4_grouped_df, left_on='SA4_CODE21', right_on='SA4_CODE_2011', how='left')\n",
    "\n",
    "# Fill NA values with 0 for transaction columns\n",
    "merged_sa4['total_transactions'].fillna(0, inplace=True)\n",
    "merged_sa4['total_customers'].fillna(0, inplace=True)\n",
    "merged_sa4['fraudulent_transactions'].fillna(0, inplace=True)\n",
    "\n",
    "# Get the centroid of the SA4 map to initialize the folium map\n",
    "center = merged_sa4.geometry.centroid.unary_union.centroid"
   ]
  },
  {
   "cell_type": "markdown",
   "metadata": {},
   "source": [
    "### Plotting Areas with Most Transactions"
   ]
  },
  {
   "cell_type": "code",
   "execution_count": 19,
   "metadata": {},
   "outputs": [
    {
     "data": {
      "text/plain": [
       "<folium.map.LayerControl at 0x3618ce6d0>"
      ]
     },
     "execution_count": 19,
     "metadata": {},
     "output_type": "execute_result"
    }
   ],
   "source": [
    "m = folium.Map(location=[center.y, center.x], zoom_start=5)\n",
    "\n",
    "folium.Choropleth(\n",
    "    geo_data=merged_sa4.to_json(),\n",
    "    name='choropleth',\n",
    "    data=merged_sa4,\n",
    "    columns=['SA4_CODE21', 'total_transactions'],\n",
    "    key_on='feature.properties.SA4_CODE21',\n",
    "    fill_color='YlGnBu', \n",
    "    fill_opacity=0.7,\n",
    "    line_opacity=0.2,\n",
    "    legend_name='Total Transactions',\n",
    ").add_to(m)\n",
    "\n",
    "# Add drop pins for top 3 areas with the most transactions\n",
    "top_areas = merged_sa4.nlargest(3, 'total_transactions')\n",
    "for idx, row in top_areas.iterrows():\n",
    "    folium.Marker(\n",
    "        location=[row['geometry'].centroid.y, row['geometry'].centroid.x],\n",
    "        popup=f\"Area: {row['SA4_NAME21']}\\nTotal Transactions: {row['total_transactions']}\",\n",
    "    ).add_to(m)\n",
    "\n",
    "folium.LayerControl().add_to(m)\n",
    "\n",
    "# Comment out to show map\n",
    "#m"
   ]
  },
  {
   "cell_type": "markdown",
   "metadata": {},
   "source": [
    "### Plotting Areas with Most Customers"
   ]
  },
  {
   "cell_type": "code",
   "execution_count": 18,
   "metadata": {},
   "outputs": [
    {
     "data": {
      "text/plain": [
       "<folium.map.LayerControl at 0x3488a4f10>"
      ]
     },
     "execution_count": 18,
     "metadata": {},
     "output_type": "execute_result"
    }
   ],
   "source": [
    "m2 = folium.Map(location=[center.y, center.x], zoom_start=5)\n",
    "\n",
    "folium.Choropleth(\n",
    "    geo_data=merged_sa4.to_json(),\n",
    "    name='choropleth',\n",
    "    data=merged_sa4,\n",
    "    columns=['SA4_CODE21', 'total_customers'],\n",
    "    key_on='feature.properties.SA4_CODE21',\n",
    "    fill_color='YlGnBu', \n",
    "    fill_opacity=0.7,\n",
    "    line_opacity=0.2,\n",
    "    legend_name='Total Customers',\n",
    ").add_to(m2)\n",
    "\n",
    "# Add drop pins for top 3 areas with the most customers\n",
    "top_areas = merged_sa4.nlargest(3, 'total_customers')\n",
    "for idx, row in top_areas.iterrows():\n",
    "    folium.Marker(\n",
    "        location=[row['geometry'].centroid.y, row['geometry'].centroid.x],\n",
    "        popup=f\"Area: {row['SA4_NAME21']}\\nTotal Customers: {row['total_customers']}\",\n",
    "    ).add_to(m2)\n",
    "\n",
    "folium.LayerControl().add_to(m2)\n",
    "\n",
    "# Comment out to show map\n",
    "#m2"
   ]
  },
  {
   "cell_type": "markdown",
   "metadata": {},
   "source": [
    "### Areas with Most Fraudulent Transactions"
   ]
  },
  {
   "cell_type": "code",
   "execution_count": 17,
   "metadata": {},
   "outputs": [
    {
     "data": {
      "text/plain": [
       "<folium.map.LayerControl at 0x329b44ed0>"
      ]
     },
     "execution_count": 17,
     "metadata": {},
     "output_type": "execute_result"
    }
   ],
   "source": [
    "m3 = folium.Map(location=[center.y, center.x], zoom_start=5)\n",
    "\n",
    "folium.Choropleth(\n",
    "    geo_data=merged_sa4.to_json(),\n",
    "    name='choropleth',\n",
    "    data=merged_sa4,\n",
    "    columns=['SA4_CODE21', 'fraudulent_transactions'],\n",
    "    key_on='feature.properties.SA4_CODE21',\n",
    "    fill_color='YlGnBu', \n",
    "    fill_opacity=0.7,\n",
    "    line_opacity=0.2,\n",
    "    legend_name='Fraudulent Transactions',\n",
    ").add_to(m3)\n",
    "\n",
    "# Add drop pins for top 3 areas with the most transactions\n",
    "top_areas = merged_sa4.nlargest(3, 'fraudulent_transactions')\n",
    "for idx, row in top_areas.iterrows():\n",
    "    folium.Marker(\n",
    "        location=[row['geometry'].centroid.y, row['geometry'].centroid.x],\n",
    "        popup=f\"Area: {row['SA4_NAME21']}\\nFraudulent Transactions: {row['fraudulent_transactions']}\",\n",
    "    ).add_to(m3)\n",
    "\n",
    "folium.LayerControl().add_to(m3)\n",
    "\n",
    "# Comment out to show map\n",
    "#m3"
   ]
  }
 ],
 "metadata": {
  "kernelspec": {
   "display_name": "base",
   "language": "python",
   "name": "python3"
  },
  "language_info": {
   "codemirror_mode": {
    "name": "ipython",
    "version": 3
   },
   "file_extension": ".py",
   "mimetype": "text/x-python",
   "name": "python",
   "nbconvert_exporter": "python",
   "pygments_lexer": "ipython3",
   "version": "3.11.5"
  }
 },
 "nbformat": 4,
 "nbformat_minor": 2
}

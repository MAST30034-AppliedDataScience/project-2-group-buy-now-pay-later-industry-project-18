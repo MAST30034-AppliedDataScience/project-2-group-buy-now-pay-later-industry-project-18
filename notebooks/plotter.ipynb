{
 "cells": [
  {
   "cell_type": "code",
   "execution_count": 1,
   "metadata": {},
   "outputs": [
    {
     "name": "stderr",
     "output_type": "stream",
     "text": [
      "24/10/01 17:11:21 WARN Utils: Your hostname, DESKTOP-0EEO7M5 resolves to a loopback address: 127.0.1.1; using 172.30.68.91 instead (on interface eth0)\n",
      "24/10/01 17:11:21 WARN Utils: Set SPARK_LOCAL_IP if you need to bind to another address\n",
      "Using Spark's default log4j profile: org/apache/spark/log4j-defaults.properties\n",
      "Setting default log level to \"WARN\".\n",
      "To adjust logging level use sc.setLogLevel(newLevel). For SparkR, use setLogLevel(newLevel).\n",
      "24/10/01 17:11:22 WARN NativeCodeLoader: Unable to load native-hadoop library for your platform... using builtin-java classes where applicable\n"
     ]
    }
   ],
   "source": [
    "# Initialise a spark session\n",
    "from pyspark.sql import SparkSession\n",
    "\n",
    "spark = (\n",
    "    SparkSession.builder.appName(\"Plotter\")\n",
    "    .config(\"spark.sql.repl.eagerEval.enabled\", True)\n",
    "    .config(\"spark.sql.parquet.cacheMetadata\", \"true\")\n",
    "    .config(\"spark.sql.session.timeZone\", \"Etc/UTC\")\n",
    "    .config(\"spark.driver.memory\", \"8g\")  # Increase driver memory\n",
    "    .config(\"spark.executor.memory\", \"8g\")  # Increase executor memory\n",
    "    .config(\"spark.executor.instances\", \"4\")  # Increase the number of executor instances\n",
    "    .config(\"spark.driver.maxResultSize\", \"2g\")\n",
    "    .config(\"spark.sql.shuffle.partitions\", \"200\") \\\n",
    "    .getOrCreate()\n",
    ")"
   ]
  },
  {
   "cell_type": "code",
   "execution_count": 2,
   "metadata": {},
   "outputs": [],
   "source": [
    "import polars as pl \n",
    "import pyarrow as pa "
   ]
  },
  {
   "cell_type": "code",
   "execution_count": 3,
   "metadata": {},
   "outputs": [],
   "source": [
    "import matplotlib.pyplot as plt "
   ]
  },
  {
   "cell_type": "markdown",
   "metadata": {},
   "source": [
    "# Figure 1: outlier detection "
   ]
  },
  {
   "cell_type": "code",
   "execution_count": 3,
   "metadata": {},
   "outputs": [
    {
     "name": "stderr",
     "output_type": "stream",
     "text": [
      "                                                                                \r"
     ]
    }
   ],
   "source": [
    "imputed = spark.read.parquet('../data/curated/imputed_data')"
   ]
  },
  {
   "cell_type": "code",
   "execution_count": 11,
   "metadata": {},
   "outputs": [
    {
     "name": "stderr",
     "output_type": "stream",
     "text": [
      "                                                                                \r"
     ]
    }
   ],
   "source": [
    "# Take a sample for plotting\n",
    "sample_fraction = 0.2\n",
    "sampled_data = imputed.sample(withReplacement=False, fraction=sample_fraction, seed=42)\n",
    "\n",
    "df = pl.from_arrow(pa.Table.from_batches(sampled_data.select(\"dollar_value\", \"z_score\")._collect_as_arrow()))"
   ]
  },
  {
   "cell_type": "code",
   "execution_count": 31,
   "metadata": {},
   "outputs": [
    {
     "data": {
      "image/png": "[encoded data removed]",
      "text/plain": [
       "<Figure size 360x180 with 2 Axes>"
      ]
     },
     "metadata": {
      "needs_background": "light"
     },
     "output_type": "display_data"
    }
   ],
   "source": [
    "fig, (ax1, ax2) = plt.subplots(1, 2, figsize=(5, 2.5), sharey=True)\n",
    "plt.sca(ax1)\n",
    "plt.hist(df['dollar_value']/1e3, bins=30, color='blue', alpha=0.7)\n",
    "plt.title('Before removal')\n",
    "plt.xlabel('Dollar Value (in 1k)')\n",
    "plt.ylabel('Frequency')\n",
    "\n",
    "\n",
    "plt.sca(ax2)\n",
    "plt.hist(df.filter(pl.col('z_score').abs() <=3)['dollar_value']/1e3, bins=30, color='green', alpha=0.7)\n",
    "plt.title('After removal')\n",
    "plt.xlabel('Dollar Value (in 1k)')\n",
    "\n",
    "fig.subplots_adjust(wspace=.1, bottom=.2, right=.95)\n",
    "plt.savefig('../plots/outlier_removal.png', dpi=300)"
   ]
  },
  {
   "cell_type": "markdown",
   "metadata": {},
   "source": [
    "# Figure 2: Flagging fraud "
   ]
  },
  {
   "cell_type": "code",
   "execution_count": 4,
   "metadata": {},
   "outputs": [
    {
     "name": "stderr",
     "output_type": "stream",
     "text": [
      "                                                                                \r"
     ]
    }
   ],
   "source": [
    "transactions = spark.read.parquet('../data/curated/aggregated_data')"
   ]
  },
  {
   "cell_type": "markdown",
   "metadata": {},
   "source": [
    "Convert into Polars Dataframe."
   ]
  },
  {
   "cell_type": "code",
   "execution_count": 8,
   "metadata": {},
   "outputs": [
    {
     "name": "stderr",
     "output_type": "stream",
     "text": [
      "                                                                                \r"
     ]
    }
   ],
   "source": [
    "df = pl.from_arrow(pa.Table.from_batches(\n",
    "    transactions\n",
    "    .sample(withReplacement=False, fraction=0.2, seed=42)\n",
    "    .select(\n",
    "    \"dollar_value\", \"fraud_probability_consumer\", \"fraud_probability_merchant\",\n",
    "    \"user_id\", \"order_datetime\", \"merchant_abn\", \n",
    ")._collect_as_arrow()))"
   ]
  },
  {
   "cell_type": "code",
   "execution_count": 21,
   "metadata": {},
   "outputs": [],
   "source": [
    "consumer_weekly = df.lazy().group_by(\n",
    "    \"user_id\", \n",
    "    pl.col('order_datetime').str.to_date().dt.week().alias('week'), \n",
    "    pl.col('order_datetime').str.to_date().dt.year().alias('year'),\n",
    ").len().select(\n",
    "    pl.col('len').alias('consumer_weekly_transaction')\n",
    ").collect()"
   ]
  },
  {
   "cell_type": "code",
   "execution_count": 23,
   "metadata": {},
   "outputs": [],
   "source": [
    "merchant_weekly = df.lazy().group_by(\n",
    "    \"merchant_abn\", \n",
    "    pl.col('order_datetime').str.to_date().dt.week().alias('week'), \n",
    "    pl.col('order_datetime').str.to_date().dt.year().alias('year'),\n",
    ").len().select(\n",
    "    pl.col('len').alias('merchant_weekly_transaction')\n",
    ").collect()"
   ]
  },
  {
   "cell_type": "code",
   "execution_count": 60,
   "metadata": {},
   "outputs": [
    {
     "data": {
      "image/png": "[encoded data removed]",
      "text/plain": [
       "<Figure size 360x216 with 4 Axes>"
      ]
     },
     "metadata": {
      "needs_background": "light"
     },
     "output_type": "display_data"
    }
   ],
   "source": [
    "fig, ((ax1, ax2), (ax3, ax4)) = plt.subplots(2, 2, figsize=(5, 3))\n",
    "plt.sca(ax1)\n",
    "plt.hist(df['dollar_value'], bins=50, color='blue', alpha=0.7)\n",
    "plt.xlabel('Transaction Value ($)', labelpad=0)\n",
    "plt.ylabel('Frequency')\n",
    "\n",
    "plt.sca(ax2)\n",
    "plt.hist(df['fraud_probability_consumer'], bins=50, color='red', alpha=0.7, label=\"Consumer\")\n",
    "plt.hist(df['fraud_probability_merchant'], bins=50, color='green', alpha=0.7, label=\"Merchant\")\n",
    "plt.xlabel('Fraud Probability', labelpad=0)\n",
    "plt.legend()\n",
    "\n",
    "\n",
    "plt.sca(ax3)\n",
    "plt.hist(consumer_weekly[\"consumer_weekly_transaction\"], bins=30, color=\"blue\", alpha=0.7)\n",
    "plt.xlabel(\"Weekly Consumer Transactions\", labelpad=0)\n",
    "plt.ylabel('Frequency')\n",
    "plt.ticklabel_format(axis='y', style='sci', scilimits=(0,0))\n",
    "\n",
    "\n",
    "plt.sca(ax4)\n",
    "plt.hist(merchant_weekly[\"merchant_weekly_transaction\"].clip(upper_bound=200), bins=30, color=\"green\", alpha=0.7)\n",
    "plt.xlabel(\"Weekly Merchant Transactions\", labelpad=0)\n",
    "plt.ticklabel_format(axis='y', style='sci', scilimits=(0,0))\n",
    "fig.suptitle('Distribution of feature variables')\n",
    "\n",
    "fig.subplots_adjust(hspace=.6, bottom=.15, wspace=.3, right=.95)\n",
    "plt.savefig('../plots/distributions.png', dpi=300)"
   ]
  },
  {
   "cell_type": "code",
   "execution_count": null,
   "metadata": {},
   "outputs": [],
   "source": []
  }
 ],
 "metadata": {
  "kernelspec": {
   "display_name": "Python 3",
   "language": "python",
   "name": "python3"
  },
  "language_info": {
   "codemirror_mode": {
    "name": "ipython",
    "version": 3
   },
   "file_extension": ".py",
   "mimetype": "text/x-python",
   "name": "python",
   "nbconvert_exporter": "python",
   "pygments_lexer": "ipython3",
   "version": "3.8.10"
  }
 },
 "nbformat": 4,
 "nbformat_minor": 2
}
